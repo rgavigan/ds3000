{
  "cells": [
    {
      "cell_type": "markdown",
      "metadata": {
        "id": "mEK2QYPrX78R"
      },
      "source": [
        "# Assignment 01: Supervised learning, linear models, and loss functions [100 points]\n",
        "\n",
        "In this assignment, you're going to hard code OLS and LAD cost functions to fit regression lines to a data set. For hint, refer to the lecture slides and follow the same structure for your coding, functions etc.\n",
        "\n",
        "## Data set\n",
        "`Assignment_1_data.csv` represents the marks, number of courses taken, and study time of 100 students.\n",
        "\n",
        "## Caveat\n",
        "Once you are done, please do the following steps:\n",
        "\n",
        "1.  Restart your kernel by clicking 'Kernel' > 'Restart & Run All'.\n",
        "\n",
        "2.  Fix any errors which result from this.\n",
        "\n",
        "3.  Repeat steps 1 and 2 until your notebook runs errors free.\n",
        "\n",
        "4.  Submit your completed notebook to OWL by the deadline.\n",
        "\n",
        "5. Do not clear the answer outputs of your cells. When we open your notebooks for grading the outputs must be there, else marks will be deducted."
      ]
    },
    {
      "cell_type": "markdown",
      "metadata": {},
      "source": [
        "## Toolbox"
      ]
    },
    {
      "cell_type": "code",
      "execution_count": 1,
      "metadata": {
        "id": "aBu-equFX78Y"
      },
      "outputs": [],
      "source": [
        "# Import all the necessary packages:\n",
        "import matplotlib.pyplot as plt\n",
        "import numpy as np\n",
        "import pandas as pd\n",
        "import scipy.stats as ss\n",
        "import scipy.optimize as so\n",
        "from IPython.display import display\n",
        "%matplotlib inline"
      ]
    },
    {
      "cell_type": "markdown",
      "metadata": {
        "id": "m8CtqKgpX78f"
      },
      "source": [
        "---\n",
        "## Part 1\n",
        "### Question 1.1 [14 points]\n",
        "\n",
        "\n",
        "Read the `Assignment_1_data.csv` file as a `pandas.DataFrame`. Use appropriate pandas commands to show the descriptive statistics of the dataset as well as its first 10 rows."
      ]
    },
    {
      "cell_type": "code",
      "execution_count": 2,
      "metadata": {
        "colab": {
          "base_uri": "https://localhost:8080/",
          "height": 363
        },
        "id": "WdFNvFsRUdx9",
        "outputId": "507d39ad-1491-44be-83c8-fd7c3172294e"
      },
      "outputs": [
        {
          "data": {
            "text/html": [
              "<div>\n",
              "<style scoped>\n",
              "    .dataframe tbody tr th:only-of-type {\n",
              "        vertical-align: middle;\n",
              "    }\n",
              "\n",
              "    .dataframe tbody tr th {\n",
              "        vertical-align: top;\n",
              "    }\n",
              "\n",
              "    .dataframe thead th {\n",
              "        text-align: right;\n",
              "    }\n",
              "</style>\n",
              "<table border=\"1\" class=\"dataframe\">\n",
              "  <thead>\n",
              "    <tr style=\"text-align: right;\">\n",
              "      <th></th>\n",
              "      <th>number_courses</th>\n",
              "      <th>Marks</th>\n",
              "      <th>time_study</th>\n",
              "    </tr>\n",
              "  </thead>\n",
              "  <tbody>\n",
              "    <tr>\n",
              "      <th>0</th>\n",
              "      <td>3</td>\n",
              "      <td>19.202</td>\n",
              "      <td>13.524</td>\n",
              "    </tr>\n",
              "    <tr>\n",
              "      <th>1</th>\n",
              "      <td>4</td>\n",
              "      <td>7.734</td>\n",
              "      <td>0.384</td>\n",
              "    </tr>\n",
              "    <tr>\n",
              "      <th>2</th>\n",
              "      <td>4</td>\n",
              "      <td>13.811</td>\n",
              "      <td>12.532</td>\n",
              "    </tr>\n",
              "    <tr>\n",
              "      <th>3</th>\n",
              "      <td>6</td>\n",
              "      <td>53.018</td>\n",
              "      <td>47.454</td>\n",
              "    </tr>\n",
              "    <tr>\n",
              "      <th>4</th>\n",
              "      <td>8</td>\n",
              "      <td>55.299</td>\n",
              "      <td>62.488</td>\n",
              "    </tr>\n",
              "    <tr>\n",
              "      <th>5</th>\n",
              "      <td>6</td>\n",
              "      <td>17.822</td>\n",
              "      <td>19.266</td>\n",
              "    </tr>\n",
              "    <tr>\n",
              "      <th>6</th>\n",
              "      <td>3</td>\n",
              "      <td>29.889</td>\n",
              "      <td>18.189</td>\n",
              "    </tr>\n",
              "    <tr>\n",
              "      <th>7</th>\n",
              "      <td>5</td>\n",
              "      <td>17.264</td>\n",
              "      <td>17.065</td>\n",
              "    </tr>\n",
              "    <tr>\n",
              "      <th>8</th>\n",
              "      <td>4</td>\n",
              "      <td>20.348</td>\n",
              "      <td>17.640</td>\n",
              "    </tr>\n",
              "    <tr>\n",
              "      <th>9</th>\n",
              "      <td>3</td>\n",
              "      <td>30.862</td>\n",
              "      <td>18.519</td>\n",
              "    </tr>\n",
              "  </tbody>\n",
              "</table>\n",
              "</div>"
            ],
            "text/plain": [
              "   number_courses   Marks  time_study\n",
              "0               3  19.202      13.524\n",
              "1               4   7.734       0.384\n",
              "2               4  13.811      12.532\n",
              "3               6  53.018      47.454\n",
              "4               8  55.299      62.488\n",
              "5               6  17.822      19.266\n",
              "6               3  29.889      18.189\n",
              "7               5  17.264      17.065\n",
              "8               4  20.348      17.640\n",
              "9               3  30.862      18.519"
            ]
          },
          "execution_count": 2,
          "metadata": {},
          "output_type": "execute_result"
        }
      ],
      "source": [
        "# 6 points\n",
        "# YOUR CODE HERE:\n",
        "students = pd.read_csv('Assignment_1_data.csv')\n",
        "students.head(10)"
      ]
    },
    {
      "cell_type": "markdown",
      "metadata": {
        "id": "56WSoK7NNzCL"
      },
      "source": [
        "Add a new column to the dataframe and name it as \"time_study_avg\". Divide each student's \"time_study\" by his/her \"number_courses\" to calculate this new attribute. Then, drop the original \"time_study\" column as we do not need it anymore."
      ]
    },
    {
      "cell_type": "code",
      "execution_count": 3,
      "metadata": {
        "colab": {
          "base_uri": "https://localhost:8080/",
          "height": 206
        },
        "id": "EQC-xYSPNx58",
        "outputId": "07810838-a0b0-4bf5-da58-ab4b15594f48"
      },
      "outputs": [],
      "source": [
        "# 2 pts\n",
        "# YOUR CODE HERE:\n",
        "\n",
        "# Add new column to students\n",
        "students['time_study_avg'] = students['time_study'] / students['number_courses']\n",
        "\n",
        "# Remove time_study column\n",
        "students = students.drop('time_study', axis=1)"
      ]
    },
    {
      "cell_type": "markdown",
      "metadata": {
        "id": "sSRuABSlHlqr"
      },
      "source": [
        "Compute the Pearson’s Correlation Coefficient between study time per course and marks. Then Investigate the relationship between the students' study time and marks by plotting a scatter plot of the `time_study_avg` (x axis) and `Marks` columns (y axis). Add an `alpha` (transparency of the plotted dots) in case some data are overlapping. Remember to label the axes."
      ]
    },
    {
      "cell_type": "code",
      "execution_count": 4,
      "metadata": {
        "colab": {
          "base_uri": "https://localhost:8080/",
          "height": 467
        },
        "id": "S-d20YM-IPr7",
        "outputId": "9627b28d-76d3-4f26-f852-accd2a88005f"
      },
      "outputs": [
        {
          "name": "stdout",
          "output_type": "stream",
          "text": [
            "PCC between time_study_avg and Marks: 0.942253890364054\n"
          ]
        },
        {
          "data": {
            "text/plain": [
              "Text(0, 0.5, 'Marks')"
            ]
          },
          "execution_count": 4,
          "metadata": {},
          "output_type": "execute_result"
        },
        {
          "data": {
            "image/png": "[encoded data removed]",
            "text/plain": [
              "<Figure size 640x480 with 1 Axes>"
            ]
          },
          "metadata": {},
          "output_type": "display_data"
        }
      ],
      "source": [
        "# 4 points\n",
        "# YOUR CODE HERE:\n",
        "\n",
        "# Pearson's Correlation Coefficient between: time_study_avg and Marks\n",
        "pearson_corr = ss.pearsonr(students['time_study_avg'], students['Marks']) # this can also be calculated using pandas .corr() methods\n",
        "\n",
        "# Print Pearson's Correlation Coefficient\n",
        "print('PCC between time_study_avg and Marks:', pearson_corr[0])\n",
        "\n",
        "# Scatter plot of time_study_avg (x) and Marks (y), with alpha = 0.5 for transparency\n",
        "plt.scatter(students['time_study_avg'], students['Marks'], alpha=0.5)\n",
        "\n",
        "# Label the axes\n",
        "plt.xlabel('Average time spent studying (hours)')\n",
        "plt.ylabel('Marks')"
      ]
    },
    {
      "cell_type": "markdown",
      "metadata": {},
      "source": [
        "**Written question:** What do you see here? Discuss your findings. [2 points]"
      ]
    },
    {
      "cell_type": "markdown",
      "metadata": {
        "id": "XUVK0ZGmTAcE"
      },
      "source": [
        "<font color='yellow'>**Written answer:**\n",
        "\n",
        "There is a significant positive correlation between the average time a student spends studying\n",
        "and their marks in the courses they took. This is evident through both the Pearson's Correlation\n",
        "Coefficient of ~0.94, and the scatter plot showing a positive correlation between time_study_avg\n",
        "and Marks.</font>"
      ]
    },
    {
      "cell_type": "markdown",
      "metadata": {
        "id": "aLTkjzp2X78w"
      },
      "source": [
        "---\n",
        "### Question 1.2 [4 point]\n",
        "\n",
        "Recall that the linear model, we obtain predictions by computing\n",
        "\n",
        "$ \\hat{\\mathbf{y}} = \\mathbf{X} \\hat{\\beta} $\n",
        "\n",
        "Here, $\\mathbf{X}$ is a design matrix which includes a column of ones, $\\hat{\\beta}$ are coefficients, and $\\hat{\\mathbf{y}}$ are outcomes.  Write a function `linearModelPredict` to compute linear model predictions given data and a coefficient vector.  The function should take as it's arguments a 1d-array of coefficients `b` and the design matrix `X` as a 2d-array and return linear model predictions `yp`.\n",
        "\n",
        "Test the function by setting\n",
        "\n",
        "```\n",
        "X = np.array([[1,0],[1,-1],[1,2]])\n",
        "b = np.array([0.1,0.3])\n",
        "```\n",
        "\n",
        "Call your function using these values.\n",
        "\n",
        "Report $\\hat{\\mathbf{y}}$.\n",
        "\n",
        "What is the dimensionality of the numpy-array that you get back?\n",
        "\n",
        "Hint:  Read the documentation for `np.dot` or the `@` operator in `numpy`."
      ]
    },
    {
      "cell_type": "code",
      "execution_count": 5,
      "metadata": {
        "colab": {
          "base_uri": "https://localhost:8080/"
        },
        "id": "So7kD_OPVQNI",
        "outputId": "a1ccb7be-3dc6-42a5-c1ce-63dfa045b6d7"
      },
      "outputs": [
        {
          "name": "stdout",
          "output_type": "stream",
          "text": [
            "Prediction: [ 0.1 -0.2  0.7]\n",
            "Dimensionality of prediction: (3,)\n"
          ]
        }
      ],
      "source": [
        "# 4pt\n",
        "# YOUR CODE HERE:\n",
        "\n",
        "def linearModelPredict(b,X):\n",
        "    # complete it...\n",
        "    yp = X@b\n",
        "    return yp\n",
        "\n",
        "# Test\n",
        "X = np.array([[1, 0], [1, -1], [1, 2]])\n",
        "b = np.array([0.1, 0.3])\n",
        "\n",
        "# Gets the prediction of y (y hat)\n",
        "yp = linearModelPredict(b,X)\n",
        "\n",
        "print('Prediction:', yp)\n",
        "print('Dimensionality of prediction:', yp.shape)"
      ]
    },
    {
      "cell_type": "code",
      "execution_count": 6,
      "metadata": {
        "colab": {
          "base_uri": "https://localhost:8080/"
        },
        "id": "iGjp5-9rKga0",
        "outputId": "b28f080a-ed59-4e2d-c21b-de3b7741a292"
      },
      "outputs": [
        {
          "name": "stdout",
          "output_type": "stream",
          "text": [
            "Using a 2d array...\n",
            "X looks like:\n",
            " [[1. 0.]\n",
            " [0. 1.]]\n",
            "b looks like:\n",
            " [[2.]\n",
            " [2.]]\n",
            "X@b is \n",
            "  [[2.]\n",
            " [2.]]\n",
            "\n",
            "\n",
            "Using a 1d array...\n",
            "X looks like:\n",
            " [[1. 0.]\n",
            " [0. 1.]]\n",
            "b looks like:\n",
            " [2. 2.]\n",
            "X@b is \n",
            "  [2. 2.]\n"
          ]
        }
      ],
      "source": [
        "# Note that b can either be a 2d array or a 1d array and the multiplication will still work\n",
        "# This requires you to be cognizant about shapes and keep track of the dimension.\n",
        "# Here are some examples\n",
        "\n",
        "# b is a 2d array\n",
        "print('Using a 2d array...')\n",
        "X = np.eye(2)\n",
        "b = 2*np.ones(2).reshape(-1,1)\n",
        "\n",
        "print(\"X looks like:\\n\", X)\n",
        "print(\"b looks like:\\n\", b)\n",
        "#Note, the result of this multiplication is a 2d array\n",
        "print(\"X@b is \\n \", linearModelPredict(b,X))\n",
        "\n",
        "\n",
        "# b is a 1d array\n",
        "print('\\n\\nUsing a 1d array...')\n",
        "X = np.eye(2)\n",
        "b = 2*np.ones(2)\n",
        "\n",
        "print(\"X looks like:\\n\", X)\n",
        "print(\"b looks like:\\n\", b)\n",
        "#Note, the result of this multiplication is a 1d array\n",
        "print(\"X@b is \\n \", linearModelPredict(b,X))"
      ]
    },
    {
      "cell_type": "markdown",
      "metadata": {
        "id": "CrZokVidX787"
      },
      "source": [
        "---\n",
        "### Question 1.3 [10 points]\n",
        "\n",
        "Write a function `linearModelLossRSS` which computes and returns the loss function for an OLS model parameterized by $\\beta$, as well as the gradient of the loss.  The function should take as its first argument a 1d-array `beta` of coefficients for the linear model, as its second argument the design matrix `X` as a 2d-array, and as its third argument a 1d-array `y` of observed outcomes.\n",
        "\n",
        "Test the function with these values:\n",
        "\n",
        "```\n",
        "X = np.array([[1,0],[1,-1],[1,2]])\n",
        "b = np.array([0.1,0.3])\n",
        "y = np.array([0,0.4,2])\n",
        "```\n",
        "\n",
        "It must return:\n",
        "\n",
        "`RSS of 2.06`\n",
        "\n",
        "Gradient of `[-3.6 -4. ]`\n"
      ]
    },
    {
      "cell_type": "code",
      "execution_count": 7,
      "metadata": {
        "id": "IHuS9PJJVZiW"
      },
      "outputs": [
        {
          "name": "stdout",
          "output_type": "stream",
          "text": [
            "RSS: 2.06\n",
            "Gradient: [-3.6 -4. ]\n"
          ]
        }
      ],
      "source": [
        "# 8 pts\n",
        "# YOUR CODE HERE:\n",
        "def linearModelLossRSS(b, X, y):\n",
        "    # complete it...\n",
        "    yp = linearModelPredict(b, X)\n",
        "    rss = np.sum((y - yp)**2)\n",
        "    gradient = -2 * X.T @ (y - yp)\n",
        "\n",
        "    return rss, gradient\n",
        "\n",
        "X = np.array([[1, 0], [1, -1], [1, 2]])\n",
        "b = np.array([0.1, 0.3])\n",
        "y = np.array([0, 0.4, 2])\n",
        "\n",
        "rss, gradient = linearModelLossRSS(b, X, y)\n",
        "print('RSS:', rss)\n",
        "print('Gradient:', gradient)"
      ]
    },
    {
      "cell_type": "markdown",
      "metadata": {
        "id": "O7tEGnLsVb4L"
      },
      "source": [
        "**Written question:** To minimize the loss, do you need increase or decrease the value of the parameters? [2 points]\n"
      ]
    },
    {
      "cell_type": "markdown",
      "metadata": {
        "id": "gT7yoJLIt9Xs"
      },
      "source": [
        "<font color='yellow'>**Written answer:**\n",
        "\n",
        "To minimize the loss, you need to optimize the loss function. In this case, it is evident\n",
        "that we will need to increase the value of the parameters because the gradients are negative relative to them. To find the exact values\n",
        "of the parameters that minimize the loss function, we will need to optimize it in\n",
        "Question 1.4. Question 1.4 demonstrates below that the ideal values are [0.6, 0.6]</font>"
      ]
    },
    {
      "cell_type": "markdown",
      "metadata": {
        "id": "zpfl2A86X79D"
      },
      "source": [
        "---\n",
        "### Question 1.4 [12 points]\n",
        "\n",
        "Now that you've implemented a loss function in question 1.3, it is now time to minimize it.\n",
        "\n",
        "Write a function `linearModelFit` to fit a linear model.  The function should take as its first argument the design matrix `X` as a 2d-array, as its second argument a 1d-array `y` of outcomes, and as its third argument a function  `lossfcn` which returns as a tuple the value of the loss, as well as the gradient of the loss. As a result, it should return the estimated betas and the R2.\n",
        "\n",
        "Test the function with these values:\n",
        "```\n",
        "X = np.array([[1,0],[1,-1],[1,2]])\n",
        "y = np.array([0,0.4,2])\n",
        "```\n",
        "It must return:\n",
        "\n",
        "Betas: `[0.6 0.6]`\n",
        "\n",
        "R2: `0.75`\n",
        "\n",
        "\n",
        "**Hint**: Use `scipy.optimize.minimize` (refer to the slides) to minimize the loss function\n",
        "\n"
      ]
    },
    {
      "cell_type": "code",
      "execution_count": 8,
      "metadata": {
        "colab": {
          "base_uri": "https://localhost:8080/"
        },
        "id": "HfGGnSoRt7us",
        "outputId": "4f6c3e66-bf95-493b-a5f4-a69fe5498e98"
      },
      "outputs": [
        {
          "name": "stdout",
          "output_type": "stream",
          "text": [
            "Betas: [0.6 0.6]\n",
            "R2: 0.75\n"
          ]
        }
      ],
      "source": [
        "# 12 pts\n",
        "# YOUR CODE HERE:\n",
        "def linearModelFit(X, y, lossfcn):\n",
        "    # Returns the estimated betas and the R2 value\n",
        "    bstart = np.zeros(X.shape[1]) # initial betas of 0 for dimensionality of X\n",
        "    res = so.minimize(lossfcn, bstart, args=(X, y), jac=True)\n",
        "    b = res.x\n",
        "    yp = linearModelPredict(b, X)\n",
        "    r2 = 1 - np.sum((y - yp)**2) / np.sum((y - np.mean(y))**2)\n",
        "    return b, r2\n",
        "\n",
        "X = np.array([[1, 0], [1, -1], [1, 2]])\n",
        "y = np.array([0, 0.4, 2])\n",
        "\n",
        "b, r2 = linearModelFit(X, y, linearModelLossRSS)\n",
        "print('Betas:', b)\n",
        "print('R2:', r2)"
      ]
    },
    {
      "cell_type": "markdown",
      "metadata": {
        "id": "CJ2ZergqX79L"
      },
      "source": [
        "---\n",
        "### Question 1.5 [14 points]\n",
        "\n",
        "Use the above functions to fit your model to the given dataset. Then use your model and the fitted parameters to make predictions along a grid of equally spaced students' study time. You can get these by generating a new X-matrix with 100 equally space time_study_avgs (using for example [```np.linspace```](https://numpy.org/doc/stable/reference/generated/numpy.linspace.html)). Plot the data and add a line for the predicted values. Also report the $R^2$ value for the fit. You can do this by either printing out the $R^2$ of the fit or putting it on your plot via the built-in `annotate` function of `matplotlib`.\n"
      ]
    },
    {
      "cell_type": "code",
      "execution_count": 9,
      "metadata": {
        "colab": {
          "base_uri": "https://localhost:8080/",
          "height": 651
        },
        "id": "Ije0Hki9t44-",
        "outputId": "cbc3f8c8-0841-4f27-f706-967aebf512cc"
      },
      "outputs": [
        {
          "data": {
            "text/plain": [
              "Text(0.05, 0.95, 'R2 = 0.8859911634514204')"
            ]
          },
          "execution_count": 9,
          "metadata": {},
          "output_type": "execute_result"
        },
        {
          "data": {
            "image/png": "[encoded data removed]",
            "text/plain": [
              "<Figure size 640x480 with 1 Axes>"
            ]
          },
          "metadata": {},
          "output_type": "display_data"
        }
      ],
      "source": [
        "# 14 pts\n",
        "# YOUR CODE HERE:\n",
        "# Fit the model to students - input is time_study_avg and output is Marks\n",
        "X = students['time_study_avg'].values.reshape(-1, 1)\n",
        "y = students['Marks'].values\n",
        "b, r2 = linearModelFit(X, y, linearModelLossRSS)\n",
        "\n",
        "# Plot the data with the linear model\n",
        "plt.scatter(students['time_study_avg'], students['Marks'], alpha=0.5)\n",
        "plt.xlabel('Average time spent studying (hours)')\n",
        "plt.ylabel('Marks')\n",
        "\n",
        "# Plot the linear model\n",
        "x = np.linspace(X.min(), X.max(), 100).reshape(-1, 1)\n",
        "y = linearModelPredict(b, x)\n",
        "plt.plot(x, y, 'r')\n",
        "\n",
        "# Annotate with R2 in top left of plot\n",
        "plt.annotate('R2 = {}'.format(r2), xy=(0.05, 0.95), xycoords='axes fraction')"
      ]
    },
    {
      "cell_type": "code",
      "execution_count": 10,
      "metadata": {},
      "outputs": [
        {
          "name": "stdout",
          "output_type": "stream",
          "text": [
            "R2: 0.91558559915085\n"
          ]
        }
      ],
      "source": [
        "# Showcase using time_study_avg and number_courses as inputs\n",
        "X = students[['time_study_avg', 'number_courses']].values\n",
        "y = students['Marks'].values\n",
        "b, r2 = linearModelFit(X, y, linearModelLossRSS)\n",
        "\n",
        "print('R2:', r2)"
      ]
    },
    {
      "cell_type": "markdown",
      "metadata": {},
      "source": [
        "---\n",
        "## Part 2: LAD Regression"
      ]
    },
    {
      "cell_type": "markdown",
      "metadata": {
        "id": "A3emHgAcX79R"
      },
      "source": [
        "---\n",
        "### Question 2.1 [10 points]\n",
        "\n",
        "In the previous section, we worked with the OLS loss.  Now, we'll implement a linear model with the least absolute deviation (LAD) loss.\n",
        "\n",
        "Write a function `linearModelLossLAD` which computes the least absolute deviation loss function for a linear model  parameterized by $\\beta$, as well as the gradient of the loss.  The function should take as its first argument a 1d-array `beta` of coefficients for the linear model, as its second argument the design matrix `X` as a 2d-array, and as its third argument a 1d-array `y` of observed outcomes.\n",
        "\n",
        "Test the function with the values:\n",
        "\n",
        "```\n",
        "X = np.array([[1,0],[1,-1],[1,2]])\n",
        "b = np.array([0.1,0.3])\n",
        "y = np.array([0,0.4,2])\n",
        "```\n",
        "It must return:\n",
        "\n",
        "LAD of `2.0`\n",
        "\n",
        "Gradient of `[-1. -1.]`"
      ]
    },
    {
      "cell_type": "code",
      "execution_count": 11,
      "metadata": {
        "colab": {
          "base_uri": "https://localhost:8080/"
        },
        "id": "K-Fz6flkuD0j",
        "outputId": "a77abe0a-1652-425a-ecec-476cde4784c4"
      },
      "outputs": [
        {
          "name": "stdout",
          "output_type": "stream",
          "text": [
            "LAD: 2.0\n",
            "Gradient: [-1. -1.]\n"
          ]
        }
      ],
      "source": [
        "# 10 points\n",
        "# YOUR CODE HERE:\n",
        "def linearModelLossLAD(b, X, y):\n",
        "    yp = linearModelPredict(b, X)\n",
        "    lad = np.sum(np.abs(y - yp))\n",
        "    gradient = -np.sign(y - yp) @ X\n",
        "\n",
        "    return lad, gradient\n",
        "\n",
        "X = np.array([[1, 0], [1, -1], [1, 2]])\n",
        "b = np.array([0.1, 0.3])\n",
        "y = np.array([0, 0.4, 2])\n",
        "\n",
        "lad, gradient = linearModelLossLAD(b, X, y)\n",
        "print('LAD:', lad)\n",
        "print('Gradient:', gradient)"
      ]
    },
    {
      "cell_type": "markdown",
      "metadata": {
        "id": "MTx_xIR5X79V"
      },
      "source": [
        "---\n",
        "### Question 2.2: [10 points]\n",
        "\n",
        "\n",
        "Use the above functions to fit your LAD model. Use your model to make predictions along a grid of 100 equally spaced students time_study_avg.  Once fit, add the fitted line to the scatter plot as in question 1.5.  Also report the $R^2$-value.\n",
        "\n",
        "Note: If you recieve an error from the optimizer, it may be because the loss function for the LAD model is not differentiable at its minimum.  This will lead to some gradient based optimizers to fail to converge.  If this happens to you then pass `method=\"Powell\"` to `scipy.optimize.minimize`.\n",
        "\n"
      ]
    },
    {
      "cell_type": "code",
      "execution_count": 12,
      "metadata": {
        "colab": {
          "base_uri": "https://localhost:8080/",
          "height": 705
        },
        "id": "WjzoFgyOuFPc",
        "outputId": "0473bb60-28e3-4ceb-da81-e451f5d17237"
      },
      "outputs": [
        {
          "data": {
            "text/plain": [
              "Text(0.05, 0.95, 'R2 = 0.8852770680196714')"
            ]
          },
          "execution_count": 12,
          "metadata": {},
          "output_type": "execute_result"
        },
        {
          "data": {
            "image/png": "[encoded data removed]",
            "text/plain": [
              "<Figure size 640x480 with 1 Axes>"
            ]
          },
          "metadata": {},
          "output_type": "display_data"
        }
      ],
      "source": [
        "# 8 points\n",
        "# YOUR CODE HERE:\n",
        "# Fit the model to students - input is time_study_avg and output is Marks\n",
        "X = students['time_study_avg'].values.reshape(-1, 1)\n",
        "y = students['Marks'].values\n",
        "b, r2 = linearModelFit(X, y, linearModelLossLAD)\n",
        "\n",
        "# Plot the data with the linear model\n",
        "plt.scatter(students['time_study_avg'], students['Marks'], alpha=0.5)\n",
        "plt.xlabel('Average time spent studying (hours)')\n",
        "plt.ylabel('Marks')\n",
        "\n",
        "# Plot the linear model\n",
        "x = np.linspace(0, 8, 100)\n",
        "y = b[0] * x\n",
        "plt.plot(x, y, 'r')\n",
        "\n",
        "# Annotate with R2 in top left of plot\n",
        "plt.annotate('R2 = {}'.format(r2), xy=(0.05, 0.95), xycoords='axes fraction')"
      ]
    },
    {
      "cell_type": "code",
      "execution_count": 13,
      "metadata": {},
      "outputs": [
        {
          "name": "stdout",
          "output_type": "stream",
          "text": [
            "R2: 0.9108935491894065\n"
          ]
        }
      ],
      "source": [
        "# Showcase using time_study_avg and number_courses as inputs\n",
        "X = students[['time_study_avg', 'number_courses']].values\n",
        "y = students['Marks'].values\n",
        "b, r2 = linearModelFit(X, y, linearModelLossLAD)\n",
        "\n",
        "print('R2:', r2)"
      ]
    },
    {
      "cell_type": "markdown",
      "metadata": {},
      "source": [
        "**Written question**: What is the difference in the fit obtained with an L1 as compared to the L2 cost function? How their $R^2$ values compare? Why? [2 points]"
      ]
    },
    {
      "cell_type": "markdown",
      "metadata": {
        "id": "Z0tRMvEiuGJe"
      },
      "source": [
        "<font color='yellow'> **Written Answer:**\n",
        "\n",
        "Observing the fit through the plots leads to a very minor difference between L1 and L2. For a quantitative description, the R2 value is evidently better\n",
        "in the L2 cost function over the L1 cost function. The R2 value will always be better for OLS because it is miming the RSS. The L1 model will likely perform better if there are significant outliers using median regression robust techniques, but in this case they are very similar.\n",
        "</font>"
      ]
    },
    {
      "cell_type": "markdown",
      "metadata": {
        "id": "4Tza7fD4X79a"
      },
      "source": [
        "---\n",
        "### Question 2.3: [12 points]\n",
        "\n",
        "Fit an OLS model to all student data with the `linear_model` module from the `sklearn` package by using the [`LinearRegression`](https://scikit-learn.org/stable/modules/generated/sklearn.linear_model.LinearRegression.html) class. The features (i.e., predictors) to use are average study time, and number of courses."
      ]
    },
    {
      "cell_type": "code",
      "execution_count": 14,
      "metadata": {
        "colab": {
          "base_uri": "https://localhost:8080/"
        },
        "id": "l7xLq3wPuJBf",
        "outputId": "3e5651e2-4fc6-4638-e01a-ec83aa007e46"
      },
      "outputs": [
        {
          "name": "stdout",
          "output_type": "stream",
          "text": [
            "R2 for time_study_avg + number_courses: 0.940366\n",
            "R2 for only time_study_avg: 0.887842\n"
          ]
        }
      ],
      "source": [
        "# 8 points\n",
        "# YOUR CODE HERE:\n",
        "from sklearn.linear_model import LinearRegression\n",
        "\n",
        "# Fit the model to students - input is time_study_avg and output is Marks\n",
        "X = students[['time_study_avg', 'number_courses']].values\n",
        "y = students['Marks'].values\n",
        "reg = LinearRegression().fit(X, y)\n",
        "r2 = reg.score(X, y)\n",
        "\n",
        "print('R2 for time_study_avg + number_courses: {:f}'.format(r2))\n",
        "\n",
        "# Showcase if we only use time_study_avg\n",
        "X = students[['time_study_avg']].values.reshape(-1, 1)\n",
        "y = students['Marks'].values\n",
        "reg = LinearRegression().fit(X, y)\n",
        "r2 = reg.score(X, y)\n",
        "\n",
        "print('R2 for only time_study_avg: {:f}'.format(r2))\n"
      ]
    },
    {
      "cell_type": "markdown",
      "metadata": {},
      "source": [
        "In no more than two sentences, comment on the $R^2$ values from your `sklearn` model and previous models. Are they similar? [4 pts]"
      ]
    },
    {
      "cell_type": "markdown",
      "metadata": {
        "id": "3X_4N0aouLD5"
      },
      "source": [
        "<font color='yellow'> **Written Answer:**\n",
        "\n",
        "The R2 value for the SKLearn model is similar to the previous models but slightly higher, leading to a better correlation between the input and the output. The ~0.94 value from the SKLearn model is similar to the values of ~0.92 and ~0.91 from the OLS and LAD models. If we only use time_study_avg, the values are nearly equivalent with ~0.89 from the SKLearn model being similar to the values of ~0.89 and ~0.89 from the OLS and LAD models. The results conclude that it is beneficial to include the number_courses parameter in the model for a better fit.</font>"
      ]
    },
    {
      "cell_type": "markdown",
      "metadata": {},
      "source": [
        "---\n",
        "## Part 3: Custom loss function"
      ]
    },
    {
      "cell_type": "markdown",
      "metadata": {},
      "source": [
        "---\n",
        "### Question 3.1: [4 points]\n",
        "\n",
        "Assume that the following function has been proposed to you to use as a new loss function for regression:\n",
        "\n",
        "$$L_3(\\hat{\\beta}) = \\sum_{i=1}^{n} ({y_i-\\hat{y_i}})^3$$\n",
        "\n",
        "What do you think about this new loss function, would you accept it? Please, explain."
      ]
    },
    {
      "cell_type": "markdown",
      "metadata": {},
      "source": [
        "\n",
        "<font color='yellow'>**Written answer:**\n",
        "\n",
        "This new loss function would introduce overfitting. This will be a very non-robust method for a loss function because a single outlier will be heavily considered in the loss function and will lead to a model that does not generalize well. The same would apply if we continued to increase the exponent to 4, 5, ...\n",
        "</font>\n"
      ]
    },
    {
      "cell_type": "markdown",
      "metadata": {},
      "source": [
        "---\n",
        "### Question 3.2: [10 points]\n",
        "\n",
        "Regardless of your answer to Question 4.1, taking $\\: \\hat{\\mathbf{y}} = \\mathbf{X.^2} \\hat{\\beta}\\:$ as your functional form for regression (note that $\\mathbf{X.^2}$ implies element-wise power), use your knowledge of calculus to calculate the gradient of $\\: L_3(\\hat{\\beta}).$ Type your answer (including the intermediate steps) in the cell below in Latex format. Note that $\\hat{\\beta}=[\\beta_0, \\beta_1]^T$, and $\\mathbf{X}$ is an $n$-by-$2$ matrix."
      ]
    },
    {
      "cell_type": "markdown",
      "metadata": {},
      "source": [
        "<font color='yellow'>**Written answer:**\n",
        "\n",
        "$ L_3(\\hat\\beta) = \\sum_{i = 1}^{n}(y_i - \\hat y_i)^3 = \\sum_{i = 1}^{n}(y_i - \\beta_0 - \\beta_1x_i)^3$\n",
        "\n",
        "$ \\nabla L_3(\\hat\\beta): $\n",
        "\n",
        "$ \\frac{\\partial}{\\partial \\beta_1} ((y_i - \\beta_0 - \\beta_1x_i)^3) = \\frac{\\partial}{\\partial \\beta_1} ((y_i - \\beta_0 - \\beta_1x_i)^2(y_i - \\beta_0 - \\beta_1x_i))$\n",
        "\n",
        "OLS States:\n",
        "$ \\frac{\\partial}{\\partial \\beta_1} ((y_i - \\beta_0 - \\beta_1x_i)^2) = -2(y_i - \\beta_0 - \\beta_1x_i)(-x_i) $\n",
        "\n",
        "For $ L_3 $\n",
        "by chain rule, $ \\frac{\\partial}{\\partial \\beta_1} ((y_i - \\beta_0 - \\beta_1x_i)^2(y_i - \\beta_o - \\beta_1x_i)) = -3(y_i - \\beta_0 - \\beta_1x_i)^2x_i $\n",
        "\n",
        "Therefore, $ \\frac{\\partial}{\\partial \\beta_1} = -3 \\sum_{i = 1}^{n} (y_i - \\beta_0 - \\beta_1x_i)^2x_i = -3\\sum_{i = 1}^{n}r_i^2x_i,~~~ r_i = y_i - \\beta_0 - \\beta_1x_i $\n",
        "\n",
        "$ \\frac{\\partial}{\\partial \\beta_0} ((y_i - \\beta_o - \\beta_1x_i)^3) = \\frac{\\partial}{\\partial \\beta_1} ((y_i - \\beta_o - \\beta_1x_i)^2(y_i - \\beta_o - \\beta_1x_i))$\n",
        "\n",
        "OLS States:\n",
        "$ \\frac{\\partial}{\\partial \\beta_0} ((y_i - \\beta_0 - \\beta_1x_i)^2) = 2(y_i - \\beta_0 - \\beta_1x_i)(-1) $\n",
        "\n",
        "For $ L_3 $\n",
        "by chain rule, $ \\frac{\\partial}{\\partial \\beta_0} ((y_i - b_0 - \\beta_1x_i)^2(y_i - \\beta_0 - \\beta_1x_i)) = -3(y_i - \\beta_0 - \\beta_1x_i)^2 $\n",
        "\n",
        "Therefore, $ \\frac{\\partial}{\\partial \\beta_0} = -3 \\sum_{i = 1}^{n} (y_i - \\beta_0 - \\beta_1x_i)^2x_i = -3\\sum_{i = 1}^{n}r_i^2,~~~ r_i = y_i - \\beta_0 - \\beta_1x_i $\n",
        "\n",
        "\n",
        "$ \\nabla L_3(\\hat\\beta) = [ \\frac{\\partial}{\\partial \\beta_0} ~~~ \\frac{\\partial}{\\partial \\beta_1} ] = [ -3\\sum_{i = 1}^{n}r_i^2 ~~~-3\\sum_{i = 1}^{n}r_i^2x_i ] $\n",
        "</font>"
      ]
    }
  ],
  "metadata": {
    "colab": {
      "provenance": []
    },
    "kernelspec": {
      "display_name": "Python 3",
      "language": "python",
      "name": "python3"
    },
    "language_info": {
      "codemirror_mode": {
        "name": "ipython",
        "version": 3
      },
      "file_extension": ".py",
      "mimetype": "text/x-python",
      "name": "python",
      "nbconvert_exporter": "python",
      "pygments_lexer": "ipython3",
      "version": "3.11.5"
    }
  },
  "nbformat": 4,
  "nbformat_minor": 0
}
