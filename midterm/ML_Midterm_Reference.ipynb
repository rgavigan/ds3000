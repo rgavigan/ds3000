{
 "cells": [
  {
   "cell_type": "markdown",
   "metadata": {},
   "source": [
    "## All Imports"
   ]
  },
  {
   "cell_type": "code",
   "execution_count": 3,
   "metadata": {},
   "outputs": [],
   "source": [
    "import warnings; warnings.filterwarnings('ignore')\n",
    "import pandas as pd\n",
    "import numpy as np; seed = 2023; np.random.seed(seed) # BE CAREFUL TO ENSURE SEED IS CORRECT!!!!\n",
    "import seaborn as sns\n",
    "import matplotlib.pyplot as plt\n",
    "import sklearn as sk\n",
    "from sklearn.model_selection import train_test_split, cross_val_score, cross_validate, KFold, StratifiedKFold\n",
    "from sklearn.linear_model import LinearRegression, LassoCV, SGDClassifier, Ridge, Lasso, LogisticRegression, LogisticRegressionCV, ElasticNetCV\n",
    "from sklearn.metrics import mean_squared_error, make_scorer, RocCurveDisplay, accuracy_score, classification_report, confusion_matrix, ConfusionMatrixDisplay\n",
    "from sklearn.metrics import precision_recall_curve, r2_score, mean_absolute_error, roc_auc_score, auc, roc_curve, mean_absolute_percentage_error\n",
    "from sklearn.pipeline import Pipeline, FeatureUnion\n",
    "from sklearn.preprocessing import StandardScaler, FunctionTransformer, PolynomialFeatures\n",
    "from scipy.stats import norm\n",
    "%matplotlib inline"
   ]
  },
  {
   "cell_type": "markdown",
   "metadata": {},
   "source": [
    "## Loading Dataset & Basic Information"
   ]
  },
  {
   "cell_type": "markdown",
   "metadata": {},
   "source": [
    "#### Loading & Head"
   ]
  },
  {
   "cell_type": "code",
   "execution_count": 23,
   "metadata": {},
   "outputs": [
    {
     "name": "stdout",
     "output_type": "stream",
     "text": [
      "Head of DataFrame:\n"
     ]
    },
    {
     "data": {
      "text/html": [
       "<div>\n",
       "<style scoped>\n",
       "    .dataframe tbody tr th:only-of-type {\n",
       "        vertical-align: middle;\n",
       "    }\n",
       "\n",
       "    .dataframe tbody tr th {\n",
       "        vertical-align: top;\n",
       "    }\n",
       "\n",
       "    .dataframe thead th {\n",
       "        text-align: right;\n",
       "    }\n",
       "</style>\n",
       "<table border=\"1\" class=\"dataframe\">\n",
       "  <thead>\n",
       "    <tr style=\"text-align: right;\">\n",
       "      <th></th>\n",
       "      <th>opposingTeam</th>\n",
       "      <th>home_or_away</th>\n",
       "      <th>icetime</th>\n",
       "      <th>gameScore</th>\n",
       "      <th>I_F_primaryAssists</th>\n",
       "      <th>I_F_secondaryAssists</th>\n",
       "      <th>I_F_shotAttempts</th>\n",
       "      <th>I_F_goals</th>\n",
       "      <th>I_F_rebounds</th>\n",
       "      <th>I_F_reboundGoals</th>\n",
       "      <th>...</th>\n",
       "      <th>I_F_hits</th>\n",
       "      <th>I_F_takeaways</th>\n",
       "      <th>I_F_giveaways</th>\n",
       "      <th>I_F_lowDangerGoals</th>\n",
       "      <th>I_F_mediumDangerGoals</th>\n",
       "      <th>I_F_highDangerGoals</th>\n",
       "      <th>I_F_unblockedShotAttempts</th>\n",
       "      <th>I_F_dZoneGiveaways</th>\n",
       "      <th>penalityMinutesDrawn</th>\n",
       "      <th>penaltiesDrawn</th>\n",
       "    </tr>\n",
       "  </thead>\n",
       "  <tbody>\n",
       "    <tr>\n",
       "      <th>0</th>\n",
       "      <td>STL</td>\n",
       "      <td>AWAY</td>\n",
       "      <td>118.0</td>\n",
       "      <td>-0.07</td>\n",
       "      <td>0.0</td>\n",
       "      <td>0.0</td>\n",
       "      <td>0.0</td>\n",
       "      <td>0.0</td>\n",
       "      <td>0.0</td>\n",
       "      <td>0.0</td>\n",
       "      <td>...</td>\n",
       "      <td>0.0</td>\n",
       "      <td>0.0</td>\n",
       "      <td>0.0</td>\n",
       "      <td>0.0</td>\n",
       "      <td>0.0</td>\n",
       "      <td>0.0</td>\n",
       "      <td>0.0</td>\n",
       "      <td>0.0</td>\n",
       "      <td>0.0</td>\n",
       "      <td>0.0</td>\n",
       "    </tr>\n",
       "    <tr>\n",
       "      <th>1</th>\n",
       "      <td>STL</td>\n",
       "      <td>AWAY</td>\n",
       "      <td>1087.0</td>\n",
       "      <td>-0.07</td>\n",
       "      <td>0.0</td>\n",
       "      <td>0.0</td>\n",
       "      <td>2.0</td>\n",
       "      <td>0.0</td>\n",
       "      <td>0.0</td>\n",
       "      <td>0.0</td>\n",
       "      <td>...</td>\n",
       "      <td>0.0</td>\n",
       "      <td>0.0</td>\n",
       "      <td>0.0</td>\n",
       "      <td>0.0</td>\n",
       "      <td>0.0</td>\n",
       "      <td>0.0</td>\n",
       "      <td>2.0</td>\n",
       "      <td>0.0</td>\n",
       "      <td>0.0</td>\n",
       "      <td>0.0</td>\n",
       "    </tr>\n",
       "    <tr>\n",
       "      <th>2</th>\n",
       "      <td>STL</td>\n",
       "      <td>AWAY</td>\n",
       "      <td>861.0</td>\n",
       "      <td>-0.07</td>\n",
       "      <td>0.0</td>\n",
       "      <td>0.0</td>\n",
       "      <td>1.0</td>\n",
       "      <td>0.0</td>\n",
       "      <td>0.0</td>\n",
       "      <td>0.0</td>\n",
       "      <td>...</td>\n",
       "      <td>0.0</td>\n",
       "      <td>0.0</td>\n",
       "      <td>0.0</td>\n",
       "      <td>0.0</td>\n",
       "      <td>0.0</td>\n",
       "      <td>0.0</td>\n",
       "      <td>1.0</td>\n",
       "      <td>0.0</td>\n",
       "      <td>0.0</td>\n",
       "      <td>0.0</td>\n",
       "    </tr>\n",
       "    <tr>\n",
       "      <th>3</th>\n",
       "      <td>STL</td>\n",
       "      <td>AWAY</td>\n",
       "      <td>0.0</td>\n",
       "      <td>0.00</td>\n",
       "      <td>0.0</td>\n",
       "      <td>0.0</td>\n",
       "      <td>0.0</td>\n",
       "      <td>0.0</td>\n",
       "      <td>0.0</td>\n",
       "      <td>0.0</td>\n",
       "      <td>...</td>\n",
       "      <td>0.0</td>\n",
       "      <td>0.0</td>\n",
       "      <td>0.0</td>\n",
       "      <td>0.0</td>\n",
       "      <td>0.0</td>\n",
       "      <td>0.0</td>\n",
       "      <td>0.0</td>\n",
       "      <td>0.0</td>\n",
       "      <td>0.0</td>\n",
       "      <td>0.0</td>\n",
       "    </tr>\n",
       "    <tr>\n",
       "      <th>4</th>\n",
       "      <td>STL</td>\n",
       "      <td>AWAY</td>\n",
       "      <td>108.0</td>\n",
       "      <td>-0.07</td>\n",
       "      <td>0.0</td>\n",
       "      <td>0.0</td>\n",
       "      <td>1.0</td>\n",
       "      <td>0.0</td>\n",
       "      <td>0.0</td>\n",
       "      <td>0.0</td>\n",
       "      <td>...</td>\n",
       "      <td>0.0</td>\n",
       "      <td>0.0</td>\n",
       "      <td>0.0</td>\n",
       "      <td>0.0</td>\n",
       "      <td>0.0</td>\n",
       "      <td>0.0</td>\n",
       "      <td>1.0</td>\n",
       "      <td>0.0</td>\n",
       "      <td>0.0</td>\n",
       "      <td>0.0</td>\n",
       "    </tr>\n",
       "  </tbody>\n",
       "</table>\n",
       "<p>5 rows × 27 columns</p>\n",
       "</div>"
      ],
      "text/plain": [
       "  opposingTeam home_or_away  icetime  gameScore  I_F_primaryAssists  \\\n",
       "0          STL         AWAY    118.0      -0.07                 0.0   \n",
       "1          STL         AWAY   1087.0      -0.07                 0.0   \n",
       "2          STL         AWAY    861.0      -0.07                 0.0   \n",
       "3          STL         AWAY      0.0       0.00                 0.0   \n",
       "4          STL         AWAY    108.0      -0.07                 0.0   \n",
       "\n",
       "   I_F_secondaryAssists  I_F_shotAttempts  I_F_goals  I_F_rebounds  \\\n",
       "0                   0.0               0.0        0.0           0.0   \n",
       "1                   0.0               2.0        0.0           0.0   \n",
       "2                   0.0               1.0        0.0           0.0   \n",
       "3                   0.0               0.0        0.0           0.0   \n",
       "4                   0.0               1.0        0.0           0.0   \n",
       "\n",
       "   I_F_reboundGoals  ...  I_F_hits  I_F_takeaways  I_F_giveaways  \\\n",
       "0               0.0  ...       0.0            0.0            0.0   \n",
       "1               0.0  ...       0.0            0.0            0.0   \n",
       "2               0.0  ...       0.0            0.0            0.0   \n",
       "3               0.0  ...       0.0            0.0            0.0   \n",
       "4               0.0  ...       0.0            0.0            0.0   \n",
       "\n",
       "   I_F_lowDangerGoals  I_F_mediumDangerGoals  I_F_highDangerGoals  \\\n",
       "0                 0.0                    0.0                  0.0   \n",
       "1                 0.0                    0.0                  0.0   \n",
       "2                 0.0                    0.0                  0.0   \n",
       "3                 0.0                    0.0                  0.0   \n",
       "4                 0.0                    0.0                  0.0   \n",
       "\n",
       "   I_F_unblockedShotAttempts  I_F_dZoneGiveaways  penalityMinutesDrawn  \\\n",
       "0                        0.0                 0.0                   0.0   \n",
       "1                        2.0                 0.0                   0.0   \n",
       "2                        1.0                 0.0                   0.0   \n",
       "3                        0.0                 0.0                   0.0   \n",
       "4                        1.0                 0.0                   0.0   \n",
       "\n",
       "   penaltiesDrawn  \n",
       "0             0.0  \n",
       "1             0.0  \n",
       "2             0.0  \n",
       "3             0.0  \n",
       "4             0.0  \n",
       "\n",
       "[5 rows x 27 columns]"
      ]
     },
     "execution_count": 23,
     "metadata": {},
     "output_type": "execute_result"
    }
   ],
   "source": [
    "# Load CSV\n",
    "file_name = 'hockey.csv'\n",
    "df = pd.read_csv(file_name)\n",
    "\n",
    "# Print the head of the DataFrame\n",
    "print(\"Head of DataFrame:\")\n",
    "df.head(5)"
   ]
  },
  {
   "cell_type": "markdown",
   "metadata": {},
   "source": [
    "#### Shape"
   ]
  },
  {
   "cell_type": "code",
   "execution_count": 24,
   "metadata": {},
   "outputs": [
    {
     "name": "stdout",
     "output_type": "stream",
     "text": [
      "Shape of DataFrame:\n"
     ]
    },
    {
     "data": {
      "text/plain": [
       "(2725, 27)"
      ]
     },
     "execution_count": 24,
     "metadata": {},
     "output_type": "execute_result"
    }
   ],
   "source": [
    "# Print out the shape of the DataFrame\n",
    "print(\"Shape of DataFrame:\")\n",
    "df.shape"
   ]
  },
  {
   "cell_type": "markdown",
   "metadata": {},
   "source": [
    "#### Unique Items"
   ]
  },
  {
   "cell_type": "code",
   "execution_count": 25,
   "metadata": {},
   "outputs": [
    {
     "name": "stdout",
     "output_type": "stream",
     "text": [
      "Unique number of items in a column:\n"
     ]
    },
    {
     "data": {
      "text/plain": [
       "35"
      ]
     },
     "execution_count": 25,
     "metadata": {},
     "output_type": "execute_result"
    }
   ],
   "source": [
    "# Print out unique number of items in a column\n",
    "print(\"Unique number of items in a column:\")\n",
    "df['opposingTeam'].nunique()"
   ]
  },
  {
   "cell_type": "markdown",
   "metadata": {},
   "source": [
    "#### Average"
   ]
  },
  {
   "cell_type": "code",
   "execution_count": 26,
   "metadata": {},
   "outputs": [
    {
     "name": "stdout",
     "output_type": "stream",
     "text": [
      "Average of a column:\n"
     ]
    },
    {
     "data": {
      "text/plain": [
       "522.1974311926606"
      ]
     },
     "execution_count": 26,
     "metadata": {},
     "output_type": "execute_result"
    }
   ],
   "source": [
    "# Print out the average of a column\n",
    "print(\"Average of a column:\")\n",
    "df['icetime'].mean()"
   ]
  },
  {
   "cell_type": "markdown",
   "metadata": {},
   "source": [
    "#### Specific Value Count In Column"
   ]
  },
  {
   "cell_type": "code",
   "execution_count": 27,
   "metadata": {},
   "outputs": [
    {
     "name": "stdout",
     "output_type": "stream",
     "text": [
      "Number of specific items in a column:\n",
      "1365\n"
     ]
    }
   ],
   "source": [
    "# Print out the number of specific items in a column\n",
    "print(\"Number of specific items in a column:\")\n",
    "print(len(df[df.home_or_away == 'HOME']))"
   ]
  },
  {
   "cell_type": "markdown",
   "metadata": {},
   "source": [
    "#### Descriptive Statistics"
   ]
  },
  {
   "cell_type": "code",
   "execution_count": 28,
   "metadata": {},
   "outputs": [
    {
     "name": "stdout",
     "output_type": "stream",
     "text": [
      "Descriptive statistics:\n"
     ]
    },
    {
     "data": {
      "text/html": [
       "<div>\n",
       "<style scoped>\n",
       "    .dataframe tbody tr th:only-of-type {\n",
       "        vertical-align: middle;\n",
       "    }\n",
       "\n",
       "    .dataframe tbody tr th {\n",
       "        vertical-align: top;\n",
       "    }\n",
       "\n",
       "    .dataframe thead th {\n",
       "        text-align: right;\n",
       "    }\n",
       "</style>\n",
       "<table border=\"1\" class=\"dataframe\">\n",
       "  <thead>\n",
       "    <tr style=\"text-align: right;\">\n",
       "      <th></th>\n",
       "      <th>icetime</th>\n",
       "      <th>gameScore</th>\n",
       "      <th>I_F_primaryAssists</th>\n",
       "      <th>I_F_secondaryAssists</th>\n",
       "      <th>I_F_shotAttempts</th>\n",
       "      <th>I_F_goals</th>\n",
       "      <th>I_F_rebounds</th>\n",
       "      <th>I_F_reboundGoals</th>\n",
       "      <th>I_F_freeze</th>\n",
       "      <th>I_F_playContinuedInZone</th>\n",
       "      <th>...</th>\n",
       "      <th>I_F_hits</th>\n",
       "      <th>I_F_takeaways</th>\n",
       "      <th>I_F_giveaways</th>\n",
       "      <th>I_F_lowDangerGoals</th>\n",
       "      <th>I_F_mediumDangerGoals</th>\n",
       "      <th>I_F_highDangerGoals</th>\n",
       "      <th>I_F_unblockedShotAttempts</th>\n",
       "      <th>I_F_dZoneGiveaways</th>\n",
       "      <th>penalityMinutesDrawn</th>\n",
       "      <th>penaltiesDrawn</th>\n",
       "    </tr>\n",
       "  </thead>\n",
       "  <tbody>\n",
       "    <tr>\n",
       "      <th>count</th>\n",
       "      <td>2725.000000</td>\n",
       "      <td>2725.000000</td>\n",
       "      <td>2725.000000</td>\n",
       "      <td>2725.000000</td>\n",
       "      <td>2725.000000</td>\n",
       "      <td>2725.000000</td>\n",
       "      <td>2725.000000</td>\n",
       "      <td>2725.000000</td>\n",
       "      <td>2725.000000</td>\n",
       "      <td>2725.000000</td>\n",
       "      <td>...</td>\n",
       "      <td>2725.000000</td>\n",
       "      <td>2725.000000</td>\n",
       "      <td>2725.000000</td>\n",
       "      <td>2725.000000</td>\n",
       "      <td>2725.000000</td>\n",
       "      <td>2725.000000</td>\n",
       "      <td>2725.000000</td>\n",
       "      <td>2725.000000</td>\n",
       "      <td>2725.000000</td>\n",
       "      <td>2725.000000</td>\n",
       "    </tr>\n",
       "    <tr>\n",
       "      <th>mean</th>\n",
       "      <td>522.197431</td>\n",
       "      <td>1.280536</td>\n",
       "      <td>0.242936</td>\n",
       "      <td>0.136147</td>\n",
       "      <td>2.147523</td>\n",
       "      <td>0.206239</td>\n",
       "      <td>0.112294</td>\n",
       "      <td>0.016881</td>\n",
       "      <td>0.243303</td>\n",
       "      <td>0.553028</td>\n",
       "      <td>...</td>\n",
       "      <td>0.253578</td>\n",
       "      <td>0.394495</td>\n",
       "      <td>0.349358</td>\n",
       "      <td>0.051376</td>\n",
       "      <td>0.084037</td>\n",
       "      <td>0.070826</td>\n",
       "      <td>1.737982</td>\n",
       "      <td>0.083670</td>\n",
       "      <td>0.399266</td>\n",
       "      <td>0.199633</td>\n",
       "    </tr>\n",
       "    <tr>\n",
       "      <th>std</th>\n",
       "      <td>542.475717</td>\n",
       "      <td>1.131206</td>\n",
       "      <td>0.537567</td>\n",
       "      <td>0.378618</td>\n",
       "      <td>2.595227</td>\n",
       "      <td>0.487017</td>\n",
       "      <td>0.389679</td>\n",
       "      <td>0.137130</td>\n",
       "      <td>0.563739</td>\n",
       "      <td>0.930710</td>\n",
       "      <td>...</td>\n",
       "      <td>0.638285</td>\n",
       "      <td>0.784607</td>\n",
       "      <td>0.738448</td>\n",
       "      <td>0.235292</td>\n",
       "      <td>0.289155</td>\n",
       "      <td>0.274551</td>\n",
       "      <td>2.193379</td>\n",
       "      <td>0.309494</td>\n",
       "      <td>0.949070</td>\n",
       "      <td>0.469088</td>\n",
       "    </tr>\n",
       "    <tr>\n",
       "      <th>min</th>\n",
       "      <td>0.000000</td>\n",
       "      <td>-0.905000</td>\n",
       "      <td>0.000000</td>\n",
       "      <td>0.000000</td>\n",
       "      <td>0.000000</td>\n",
       "      <td>0.000000</td>\n",
       "      <td>0.000000</td>\n",
       "      <td>0.000000</td>\n",
       "      <td>0.000000</td>\n",
       "      <td>0.000000</td>\n",
       "      <td>...</td>\n",
       "      <td>0.000000</td>\n",
       "      <td>0.000000</td>\n",
       "      <td>0.000000</td>\n",
       "      <td>0.000000</td>\n",
       "      <td>0.000000</td>\n",
       "      <td>0.000000</td>\n",
       "      <td>0.000000</td>\n",
       "      <td>0.000000</td>\n",
       "      <td>0.000000</td>\n",
       "      <td>0.000000</td>\n",
       "    </tr>\n",
       "    <tr>\n",
       "      <th>25%</th>\n",
       "      <td>51.000000</td>\n",
       "      <td>0.345000</td>\n",
       "      <td>0.000000</td>\n",
       "      <td>0.000000</td>\n",
       "      <td>0.000000</td>\n",
       "      <td>0.000000</td>\n",
       "      <td>0.000000</td>\n",
       "      <td>0.000000</td>\n",
       "      <td>0.000000</td>\n",
       "      <td>0.000000</td>\n",
       "      <td>...</td>\n",
       "      <td>0.000000</td>\n",
       "      <td>0.000000</td>\n",
       "      <td>0.000000</td>\n",
       "      <td>0.000000</td>\n",
       "      <td>0.000000</td>\n",
       "      <td>0.000000</td>\n",
       "      <td>0.000000</td>\n",
       "      <td>0.000000</td>\n",
       "      <td>0.000000</td>\n",
       "      <td>0.000000</td>\n",
       "    </tr>\n",
       "    <tr>\n",
       "      <th>50%</th>\n",
       "      <td>200.000000</td>\n",
       "      <td>1.125000</td>\n",
       "      <td>0.000000</td>\n",
       "      <td>0.000000</td>\n",
       "      <td>1.000000</td>\n",
       "      <td>0.000000</td>\n",
       "      <td>0.000000</td>\n",
       "      <td>0.000000</td>\n",
       "      <td>0.000000</td>\n",
       "      <td>0.000000</td>\n",
       "      <td>...</td>\n",
       "      <td>0.000000</td>\n",
       "      <td>0.000000</td>\n",
       "      <td>0.000000</td>\n",
       "      <td>0.000000</td>\n",
       "      <td>0.000000</td>\n",
       "      <td>0.000000</td>\n",
       "      <td>1.000000</td>\n",
       "      <td>0.000000</td>\n",
       "      <td>0.000000</td>\n",
       "      <td>0.000000</td>\n",
       "    </tr>\n",
       "    <tr>\n",
       "      <th>75%</th>\n",
       "      <td>1067.000000</td>\n",
       "      <td>2.010000</td>\n",
       "      <td>0.000000</td>\n",
       "      <td>0.000000</td>\n",
       "      <td>4.000000</td>\n",
       "      <td>0.000000</td>\n",
       "      <td>0.000000</td>\n",
       "      <td>0.000000</td>\n",
       "      <td>0.000000</td>\n",
       "      <td>1.000000</td>\n",
       "      <td>...</td>\n",
       "      <td>0.000000</td>\n",
       "      <td>1.000000</td>\n",
       "      <td>0.000000</td>\n",
       "      <td>0.000000</td>\n",
       "      <td>0.000000</td>\n",
       "      <td>0.000000</td>\n",
       "      <td>3.000000</td>\n",
       "      <td>0.000000</td>\n",
       "      <td>0.000000</td>\n",
       "      <td>0.000000</td>\n",
       "    </tr>\n",
       "    <tr>\n",
       "      <th>max</th>\n",
       "      <td>1763.000000</td>\n",
       "      <td>4.995000</td>\n",
       "      <td>4.000000</td>\n",
       "      <td>3.000000</td>\n",
       "      <td>14.000000</td>\n",
       "      <td>4.000000</td>\n",
       "      <td>4.000000</td>\n",
       "      <td>2.000000</td>\n",
       "      <td>4.000000</td>\n",
       "      <td>6.000000</td>\n",
       "      <td>...</td>\n",
       "      <td>7.000000</td>\n",
       "      <td>7.000000</td>\n",
       "      <td>6.000000</td>\n",
       "      <td>3.000000</td>\n",
       "      <td>2.000000</td>\n",
       "      <td>2.000000</td>\n",
       "      <td>13.000000</td>\n",
       "      <td>3.000000</td>\n",
       "      <td>6.000000</td>\n",
       "      <td>3.000000</td>\n",
       "    </tr>\n",
       "  </tbody>\n",
       "</table>\n",
       "<p>8 rows × 25 columns</p>\n",
       "</div>"
      ],
      "text/plain": [
       "           icetime    gameScore  I_F_primaryAssists  I_F_secondaryAssists  \\\n",
       "count  2725.000000  2725.000000         2725.000000           2725.000000   \n",
       "mean    522.197431     1.280536            0.242936              0.136147   \n",
       "std     542.475717     1.131206            0.537567              0.378618   \n",
       "min       0.000000    -0.905000            0.000000              0.000000   \n",
       "25%      51.000000     0.345000            0.000000              0.000000   \n",
       "50%     200.000000     1.125000            0.000000              0.000000   \n",
       "75%    1067.000000     2.010000            0.000000              0.000000   \n",
       "max    1763.000000     4.995000            4.000000              3.000000   \n",
       "\n",
       "       I_F_shotAttempts    I_F_goals  I_F_rebounds  I_F_reboundGoals  \\\n",
       "count       2725.000000  2725.000000   2725.000000       2725.000000   \n",
       "mean           2.147523     0.206239      0.112294          0.016881   \n",
       "std            2.595227     0.487017      0.389679          0.137130   \n",
       "min            0.000000     0.000000      0.000000          0.000000   \n",
       "25%            0.000000     0.000000      0.000000          0.000000   \n",
       "50%            1.000000     0.000000      0.000000          0.000000   \n",
       "75%            4.000000     0.000000      0.000000          0.000000   \n",
       "max           14.000000     4.000000      4.000000          2.000000   \n",
       "\n",
       "        I_F_freeze  I_F_playContinuedInZone  ...     I_F_hits  I_F_takeaways  \\\n",
       "count  2725.000000              2725.000000  ...  2725.000000    2725.000000   \n",
       "mean      0.243303                 0.553028  ...     0.253578       0.394495   \n",
       "std       0.563739                 0.930710  ...     0.638285       0.784607   \n",
       "min       0.000000                 0.000000  ...     0.000000       0.000000   \n",
       "25%       0.000000                 0.000000  ...     0.000000       0.000000   \n",
       "50%       0.000000                 0.000000  ...     0.000000       0.000000   \n",
       "75%       0.000000                 1.000000  ...     0.000000       1.000000   \n",
       "max       4.000000                 6.000000  ...     7.000000       7.000000   \n",
       "\n",
       "       I_F_giveaways  I_F_lowDangerGoals  I_F_mediumDangerGoals  \\\n",
       "count    2725.000000         2725.000000            2725.000000   \n",
       "mean        0.349358            0.051376               0.084037   \n",
       "std         0.738448            0.235292               0.289155   \n",
       "min         0.000000            0.000000               0.000000   \n",
       "25%         0.000000            0.000000               0.000000   \n",
       "50%         0.000000            0.000000               0.000000   \n",
       "75%         0.000000            0.000000               0.000000   \n",
       "max         6.000000            3.000000               2.000000   \n",
       "\n",
       "       I_F_highDangerGoals  I_F_unblockedShotAttempts  I_F_dZoneGiveaways  \\\n",
       "count          2725.000000                2725.000000         2725.000000   \n",
       "mean              0.070826                   1.737982            0.083670   \n",
       "std               0.274551                   2.193379            0.309494   \n",
       "min               0.000000                   0.000000            0.000000   \n",
       "25%               0.000000                   0.000000            0.000000   \n",
       "50%               0.000000                   1.000000            0.000000   \n",
       "75%               0.000000                   3.000000            0.000000   \n",
       "max               2.000000                  13.000000            3.000000   \n",
       "\n",
       "       penalityMinutesDrawn  penaltiesDrawn  \n",
       "count           2725.000000     2725.000000  \n",
       "mean               0.399266        0.199633  \n",
       "std                0.949070        0.469088  \n",
       "min                0.000000        0.000000  \n",
       "25%                0.000000        0.000000  \n",
       "50%                0.000000        0.000000  \n",
       "75%                0.000000        0.000000  \n",
       "max                6.000000        3.000000  \n",
       "\n",
       "[8 rows x 25 columns]"
      ]
     },
     "execution_count": 28,
     "metadata": {},
     "output_type": "execute_result"
    }
   ],
   "source": [
    "# Descriptive statistics\n",
    "print(\"Descriptive statistics:\")\n",
    "df.describe()"
   ]
  },
  {
   "cell_type": "markdown",
   "metadata": {},
   "source": [
    "#### Datatypes & Categorical Types"
   ]
  },
  {
   "cell_type": "code",
   "execution_count": 29,
   "metadata": {},
   "outputs": [
    {
     "name": "stdout",
     "output_type": "stream",
     "text": [
      "Type of each column:\n"
     ]
    },
    {
     "data": {
      "text/plain": [
       "opposingTeam                       object\n",
       "home_or_away                       object\n",
       "icetime                           float64\n",
       "gameScore                         float64\n",
       "I_F_primaryAssists                float64\n",
       "I_F_secondaryAssists              float64\n",
       "I_F_shotAttempts                  float64\n",
       "I_F_goals                         float64\n",
       "I_F_rebounds                      float64\n",
       "I_F_reboundGoals                  float64\n",
       "I_F_freeze                        float64\n",
       "I_F_playContinuedInZone           float64\n",
       "I_F_playContinuedOutsideZone      float64\n",
       "I_F_savedShotsOnGoal              float64\n",
       "I_F_savedUnblockedShotAttempts    float64\n",
       "I_F_penalityMinutes               float64\n",
       "I_F_faceOffsWon                   float64\n",
       "I_F_hits                          float64\n",
       "I_F_takeaways                     float64\n",
       "I_F_giveaways                     float64\n",
       "I_F_lowDangerGoals                float64\n",
       "I_F_mediumDangerGoals             float64\n",
       "I_F_highDangerGoals               float64\n",
       "I_F_unblockedShotAttempts         float64\n",
       "I_F_dZoneGiveaways                float64\n",
       "penalityMinutesDrawn              float64\n",
       "penaltiesDrawn                    float64\n",
       "dtype: object"
      ]
     },
     "execution_count": 29,
     "metadata": {},
     "output_type": "execute_result"
    }
   ],
   "source": [
    "# Type of each column\n",
    "print(\"Type of each column:\")\n",
    "df.dtypes"
   ]
  },
  {
   "cell_type": "code",
   "execution_count": 33,
   "metadata": {},
   "outputs": [
    {
     "name": "stdout",
     "output_type": "stream",
     "text": [
      "Categorical variables:\n"
     ]
    },
    {
     "data": {
      "text/plain": [
       "Index(['opposingTeam', 'home_or_away'], dtype='object')"
      ]
     },
     "execution_count": 33,
     "metadata": {},
     "output_type": "execute_result"
    }
   ],
   "source": [
    "# Print out the variables that are categorical\n",
    "print(\"Categorical variables:\")\n",
    "df.select_dtypes(include=['object']).columns"
   ]
  },
  {
   "cell_type": "markdown",
   "metadata": {},
   "source": [
    "#### Null Values & Duplicate Rows"
   ]
  },
  {
   "cell_type": "code",
   "execution_count": 39,
   "metadata": {},
   "outputs": [
    {
     "name": "stdout",
     "output_type": "stream",
     "text": [
      "<class 'pandas.core.frame.DataFrame'>\n",
      "RangeIndex: 2725 entries, 0 to 2724\n",
      "Data columns (total 27 columns):\n",
      " #   Column                          Non-Null Count  Dtype  \n",
      "---  ------                          --------------  -----  \n",
      " 0   opposingTeam                    2725 non-null   object \n",
      " 1   home_or_away                    2725 non-null   object \n",
      " 2   icetime                         2725 non-null   float64\n",
      " 3   gameScore                       2725 non-null   float64\n",
      " 4   I_F_primaryAssists              2725 non-null   float64\n",
      " 5   I_F_secondaryAssists            2725 non-null   float64\n",
      " 6   I_F_shotAttempts                2725 non-null   float64\n",
      " 7   I_F_goals                       2725 non-null   float64\n",
      " 8   I_F_rebounds                    2725 non-null   float64\n",
      " 9   I_F_reboundGoals                2725 non-null   float64\n",
      " 10  I_F_freeze                      2725 non-null   float64\n",
      " 11  I_F_playContinuedInZone         2725 non-null   float64\n",
      " 12  I_F_playContinuedOutsideZone    2725 non-null   float64\n",
      " 13  I_F_savedShotsOnGoal            2725 non-null   float64\n",
      " 14  I_F_savedUnblockedShotAttempts  2725 non-null   float64\n",
      " 15  I_F_penalityMinutes             2725 non-null   float64\n",
      " 16  I_F_faceOffsWon                 2725 non-null   float64\n",
      " 17  I_F_hits                        2725 non-null   float64\n",
      " 18  I_F_takeaways                   2725 non-null   float64\n",
      " 19  I_F_giveaways                   2725 non-null   float64\n",
      " 20  I_F_lowDangerGoals              2725 non-null   float64\n",
      " 21  I_F_mediumDangerGoals           2725 non-null   float64\n",
      " 22  I_F_highDangerGoals             2725 non-null   float64\n",
      " 23  I_F_unblockedShotAttempts       2725 non-null   float64\n",
      " 24  I_F_dZoneGiveaways              2725 non-null   float64\n",
      " 25  penalityMinutesDrawn            2725 non-null   float64\n",
      " 26  penaltiesDrawn                  2725 non-null   float64\n",
      "dtypes: float64(25), object(2)\n",
      "memory usage: 574.9+ KB\n",
      "Total number of nan values: 0\n"
     ]
    }
   ],
   "source": [
    "# Print out if there are nan values and how many\n",
    "df.info()\n",
    "\n",
    "# Print out the total number of nan values\n",
    "print(\"Total number of nan values: \" + str(df.isnull().sum().sum()))"
   ]
  },
  {
   "cell_type": "code",
   "execution_count": 36,
   "metadata": {},
   "outputs": [
    {
     "name": "stdout",
     "output_type": "stream",
     "text": [
      "Are there any duplicate rows in the dataframe? True\n",
      "Number of duplicate rows in the dataframe:\n"
     ]
    },
    {
     "data": {
      "text/plain": [
       "231"
      ]
     },
     "execution_count": 36,
     "metadata": {},
     "output_type": "execute_result"
    }
   ],
   "source": [
    "# Print out if there are any duplicate rows in the dataframe\n",
    "print(\"Are there any duplicate rows in the dataframe? \" + str(df.duplicated().any()))\n",
    "\n",
    "# Print out the number of duplicate rows in the dataframe\n",
    "print(\"Number of duplicate rows in the dataframe:\")\n",
    "df.duplicated().sum()"
   ]
  },
  {
   "cell_type": "markdown",
   "metadata": {},
   "source": [
    "## Processing Dataset"
   ]
  },
  {
   "cell_type": "code",
   "execution_count": null,
   "metadata": {},
   "outputs": [],
   "source": []
  },
  {
   "cell_type": "markdown",
   "metadata": {},
   "source": [
    "## Plotting Data"
   ]
  },
  {
   "cell_type": "code",
   "execution_count": null,
   "metadata": {},
   "outputs": [],
   "source": []
  }
 ],
 "metadata": {
  "kernelspec": {
   "display_name": "base",
   "language": "python",
   "name": "python3"
  },
  "language_info": {
   "codemirror_mode": {
    "name": "ipython",
    "version": 3
   },
   "file_extension": ".py",
   "mimetype": "text/x-python",
   "name": "python",
   "nbconvert_exporter": "python",
   "pygments_lexer": "ipython3",
   "version": "3.11.5"
  }
 },
 "nbformat": 4,
 "nbformat_minor": 2
}
