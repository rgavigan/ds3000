{
 "cells": [
  {
   "cell_type": "markdown",
   "metadata": {},
   "source": [
    "### Common Imports"
   ]
  },
  {
   "cell_type": "code",
   "execution_count": 4,
   "metadata": {},
   "outputs": [],
   "source": [
    "import warnings; warnings.filterwarnings('ignore')\n",
    "import pandas as pd\n",
    "import numpy as np; seed = 2023; np.random.seed(seed)\n",
    "import seaborn as sns\n",
    "import sklearn as sk\n",
    "import matplotlib.pyplot as plt\n",
    "from sklearn.model_selection import train_test_split, cross_val_score, cross_validate, KFold, StratifiedKFold\n",
    "from sklearn.linear_model import LinearRegression, LassoCV, SGDClassifier, Ridge, Lasso, LogisticRegression, LogisticRegressionCV, ElasticNetCV\n",
    "from sklearn.metrics import mean_squared_error, make_scorer, RocCurveDisplay, accuracy_score, classification_report, confusion_matrix, ConfusionMatrixDisplay, precision_recall_curve, r2_score, mean_absolute_error, roc_auc_score, auc, roc_curve, mean_absolute_percentage_error\n",
    "from sklearn.pipeline import Pipeline, FeatureUnion\n",
    "from sklearn.preprocessing import StandardScaler, FunctionTransformer, PolynomialFeatures\n",
    "from scipy.stats import norm\n",
    "%matplotlib inline"
   ]
  },
  {
   "cell_type": "markdown",
   "metadata": {},
   "source": [
    "### Loading Dataset & Analysing It"
   ]
  },
  {
   "cell_type": "code",
   "execution_count": 12,
   "metadata": {},
   "outputs": [
    {
     "name": "stdout",
     "output_type": "stream",
     "text": [
      "  opposingTeam home_or_away  icetime  gameScore  I_F_primaryAssists  \\\n",
      "0          STL         AWAY    118.0      -0.07                 0.0   \n",
      "1          STL         AWAY   1087.0      -0.07                 0.0   \n",
      "2          STL         AWAY    861.0      -0.07                 0.0   \n",
      "3          STL         AWAY      0.0       0.00                 0.0   \n",
      "4          STL         AWAY    108.0      -0.07                 0.0   \n",
      "\n",
      "   I_F_secondaryAssists  I_F_shotAttempts  I_F_goals  I_F_rebounds  \\\n",
      "0                   0.0               0.0        0.0           0.0   \n",
      "1                   0.0               2.0        0.0           0.0   \n",
      "2                   0.0               1.0        0.0           0.0   \n",
      "3                   0.0               0.0        0.0           0.0   \n",
      "4                   0.0               1.0        0.0           0.0   \n",
      "\n",
      "   I_F_reboundGoals  ...  I_F_hits  I_F_takeaways  I_F_giveaways  \\\n",
      "0               0.0  ...       0.0            0.0            0.0   \n",
      "1               0.0  ...       0.0            0.0            0.0   \n",
      "2               0.0  ...       0.0            0.0            0.0   \n",
      "3               0.0  ...       0.0            0.0            0.0   \n",
      "4               0.0  ...       0.0            0.0            0.0   \n",
      "\n",
      "   I_F_lowDangerGoals  I_F_mediumDangerGoals  I_F_highDangerGoals  \\\n",
      "0                 0.0                    0.0                  0.0   \n",
      "1                 0.0                    0.0                  0.0   \n",
      "2                 0.0                    0.0                  0.0   \n",
      "3                 0.0                    0.0                  0.0   \n",
      "4                 0.0                    0.0                  0.0   \n",
      "\n",
      "   I_F_unblockedShotAttempts  I_F_dZoneGiveaways  penalityMinutesDrawn  \\\n",
      "0                        0.0                 0.0                   0.0   \n",
      "1                        2.0                 0.0                   0.0   \n",
      "2                        1.0                 0.0                   0.0   \n",
      "3                        0.0                 0.0                   0.0   \n",
      "4                        1.0                 0.0                   0.0   \n",
      "\n",
      "   penaltiesDrawn  \n",
      "0             0.0  \n",
      "1             0.0  \n",
      "2             0.0  \n",
      "3             0.0  \n",
      "4             0.0  \n",
      "\n",
      "[5 rows x 27 columns]\n",
      "(2725, 27)\n",
      "35\n",
      "522.1974311926606\n",
      "1365\n"
     ]
    },
    {
     "data": {
      "text/plain": [
       "opposingTeam                       object\n",
       "home_or_away                       object\n",
       "icetime                           float64\n",
       "gameScore                         float64\n",
       "I_F_primaryAssists                float64\n",
       "I_F_secondaryAssists              float64\n",
       "I_F_shotAttempts                  float64\n",
       "I_F_goals                         float64\n",
       "I_F_rebounds                      float64\n",
       "I_F_reboundGoals                  float64\n",
       "I_F_freeze                        float64\n",
       "I_F_playContinuedInZone           float64\n",
       "I_F_playContinuedOutsideZone      float64\n",
       "I_F_savedShotsOnGoal              float64\n",
       "I_F_savedUnblockedShotAttempts    float64\n",
       "I_F_penalityMinutes               float64\n",
       "I_F_faceOffsWon                   float64\n",
       "I_F_hits                          float64\n",
       "I_F_takeaways                     float64\n",
       "I_F_giveaways                     float64\n",
       "I_F_lowDangerGoals                float64\n",
       "I_F_mediumDangerGoals             float64\n",
       "I_F_highDangerGoals               float64\n",
       "I_F_unblockedShotAttempts         float64\n",
       "I_F_dZoneGiveaways                float64\n",
       "penalityMinutesDrawn              float64\n",
       "penaltiesDrawn                    float64\n",
       "dtype: object"
      ]
     },
     "execution_count": 12,
     "metadata": {},
     "output_type": "execute_result"
    }
   ],
   "source": [
    "# Load CSV\n",
    "df = pd.read_csv('hockey.csv')\n",
    "\n",
    "# Print the head of the DataFrame\n",
    "print(df.head(5))\n",
    "\n",
    "# Print out the shape of the DataFrame\n",
    "print(df.shape)\n",
    "\n",
    "# Print out unique number of items in a column\n",
    "print(df['opposingTeam'].nunique())\n",
    "\n",
    "# Print out the average of a column\n",
    "print(df['icetime'].mean())\n",
    "\n",
    "# Print out the number of specific items in a column\n",
    "print(len(df[df.home_or_away == 'HOME']))\n",
    "\n",
    "# Descriptive statistics\n",
    "df.describe()\n",
    "\n",
    "# Type of each column\n",
    "df.dtypes"
   ]
  },
  {
   "cell_type": "code",
   "execution_count": null,
   "metadata": {},
   "outputs": [],
   "source": []
  }
 ],
 "metadata": {
  "kernelspec": {
   "display_name": "base",
   "language": "python",
   "name": "python3"
  },
  "language_info": {
   "codemirror_mode": {
    "name": "ipython",
    "version": 3
   },
   "file_extension": ".py",
   "mimetype": "text/x-python",
   "name": "python",
   "nbconvert_exporter": "python",
   "pygments_lexer": "ipython3",
   "version": "3.11.5"
  }
 },
 "nbformat": 4,
 "nbformat_minor": 2
}
