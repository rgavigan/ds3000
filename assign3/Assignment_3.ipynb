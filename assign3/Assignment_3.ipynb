{
 "cells": [
  {
   "cell_type": "markdown",
   "metadata": {},
   "source": [
    "### Follow These Instructions\n",
    "\n",
    "Once you are finished, ensure to complete the following steps.\n",
    "\n",
    "1.  Restart your kernel by clicking 'Kernel' > 'Restart & Run All'.\n",
    "\n",
    "2.  Fix any errors which result from this.\n",
    "\n",
    "3.  Repeat steps 1. and 2. until your notebook runs without errors.\n",
    "\n",
    "4.  Submit your completed notebook to OWL by the deadline."
   ]
  },
  {
   "cell_type": "markdown",
   "metadata": {},
   "source": [
    "# Assignment 3: Classification with Logistic Regression  [ __ /100  marks]\n",
    "\n",
    "\n",
    "In this assignment we will use the `diabetes` dataset, which was collected and made available by “National Institute of Diabetes and Digestive and Kidney Diseases” as part of the Pima Indians Diabetes Database. \n",
    "\n",
    "We will use logistic regression to predict whether subjects have diabetes or not."
   ]
  },
  {
   "cell_type": "markdown",
   "metadata": {},
   "source": [
    "## Global Toolbox"
   ]
  },
  {
   "cell_type": "code",
   "execution_count": 2,
   "metadata": {},
   "outputs": [],
   "source": [
    "import pandas as pd\n",
    "import seaborn as sns\n",
    "import numpy as np\n",
    "from sklearn.model_selection import train_test_split, cross_val_score\n",
    "from sklearn.linear_model import LogisticRegression\n",
    "from sklearn.metrics import roc_curve, precision_recall_curve, auc\n",
    "import matplotlib.pyplot as plt\n",
    "from sklearn.linear_model import SGDClassifier\n",
    "seed=0"
   ]
  },
  {
   "cell_type": "markdown",
   "metadata": {},
   "source": [
    "## Question 1.1 [ _ /3 marks]\n",
    "\n",
    "Read the file `diabetes.csv` into a pandas DataFrame. Display the first 5 rows of the DataFrame. "
   ]
  },
  {
   "cell_type": "code",
   "execution_count": 3,
   "metadata": {
    "scrolled": true
   },
   "outputs": [
    {
     "data": {
      "text/html": [
       "<div>\n",
       "<style scoped>\n",
       "    .dataframe tbody tr th:only-of-type {\n",
       "        vertical-align: middle;\n",
       "    }\n",
       "\n",
       "    .dataframe tbody tr th {\n",
       "        vertical-align: top;\n",
       "    }\n",
       "\n",
       "    .dataframe thead th {\n",
       "        text-align: right;\n",
       "    }\n",
       "</style>\n",
       "<table border=\"1\" class=\"dataframe\">\n",
       "  <thead>\n",
       "    <tr style=\"text-align: right;\">\n",
       "      <th></th>\n",
       "      <th>Pregnancies</th>\n",
       "      <th>Glucose</th>\n",
       "      <th>BloodPressure</th>\n",
       "      <th>SkinThickness</th>\n",
       "      <th>Insulin</th>\n",
       "      <th>BMI</th>\n",
       "      <th>DiabetesPedigreeFunction</th>\n",
       "      <th>Age</th>\n",
       "      <th>Outcome</th>\n",
       "    </tr>\n",
       "  </thead>\n",
       "  <tbody>\n",
       "    <tr>\n",
       "      <th>0</th>\n",
       "      <td>6</td>\n",
       "      <td>148</td>\n",
       "      <td>72</td>\n",
       "      <td>35</td>\n",
       "      <td>0</td>\n",
       "      <td>33.6</td>\n",
       "      <td>0.627</td>\n",
       "      <td>50</td>\n",
       "      <td>1</td>\n",
       "    </tr>\n",
       "    <tr>\n",
       "      <th>1</th>\n",
       "      <td>1</td>\n",
       "      <td>85</td>\n",
       "      <td>66</td>\n",
       "      <td>29</td>\n",
       "      <td>0</td>\n",
       "      <td>26.6</td>\n",
       "      <td>0.351</td>\n",
       "      <td>31</td>\n",
       "      <td>0</td>\n",
       "    </tr>\n",
       "    <tr>\n",
       "      <th>2</th>\n",
       "      <td>8</td>\n",
       "      <td>183</td>\n",
       "      <td>64</td>\n",
       "      <td>0</td>\n",
       "      <td>0</td>\n",
       "      <td>23.3</td>\n",
       "      <td>0.672</td>\n",
       "      <td>32</td>\n",
       "      <td>1</td>\n",
       "    </tr>\n",
       "    <tr>\n",
       "      <th>3</th>\n",
       "      <td>1</td>\n",
       "      <td>89</td>\n",
       "      <td>66</td>\n",
       "      <td>23</td>\n",
       "      <td>94</td>\n",
       "      <td>28.1</td>\n",
       "      <td>0.167</td>\n",
       "      <td>21</td>\n",
       "      <td>0</td>\n",
       "    </tr>\n",
       "    <tr>\n",
       "      <th>4</th>\n",
       "      <td>0</td>\n",
       "      <td>137</td>\n",
       "      <td>40</td>\n",
       "      <td>35</td>\n",
       "      <td>168</td>\n",
       "      <td>43.1</td>\n",
       "      <td>2.288</td>\n",
       "      <td>33</td>\n",
       "      <td>1</td>\n",
       "    </tr>\n",
       "  </tbody>\n",
       "</table>\n",
       "</div>"
      ],
      "text/plain": [
       "   Pregnancies  Glucose  BloodPressure  SkinThickness  Insulin   BMI  \\\n",
       "0            6      148             72             35        0  33.6   \n",
       "1            1       85             66             29        0  26.6   \n",
       "2            8      183             64              0        0  23.3   \n",
       "3            1       89             66             23       94  28.1   \n",
       "4            0      137             40             35      168  43.1   \n",
       "\n",
       "   DiabetesPedigreeFunction  Age  Outcome  \n",
       "0                     0.627   50        1  \n",
       "1                     0.351   31        0  \n",
       "2                     0.672   32        1  \n",
       "3                     0.167   21        0  \n",
       "4                     2.288   33        1  "
      ]
     },
     "execution_count": 3,
     "metadata": {},
     "output_type": "execute_result"
    }
   ],
   "source": [
    "# ****** your code here ******\n",
    "df = pd.read_csv('diabetes.csv')\n",
    "df.head(5)"
   ]
  },
  {
   "cell_type": "markdown",
   "metadata": {},
   "source": [
    "## Question 1.2 [ _ /6 marks]\n",
    "\n",
    "(1) How many classes are there? How many features are available to predict the outcome?"
   ]
  },
  {
   "cell_type": "markdown",
   "metadata": {},
   "source": [
    "**Your answer**: \n",
    "There are two classes: 0 if the patient does not have diabetes and 1 if the patient does have diabetes.\n",
    "\n",
    "There are 8 features available to predict the outcome: pregnancies, glucose, blood pressure, skin thickness, insulin, BMI, diabetes pedigree function, and age."
   ]
  },
  {
   "cell_type": "markdown",
   "metadata": {},
   "source": [
    "(2) Is the dataset class-balanced?"
   ]
  },
  {
   "cell_type": "code",
   "execution_count": 4,
   "metadata": {},
   "outputs": [
    {
     "name": "stdout",
     "output_type": "stream",
     "text": [
      "Outcome = 1: 268\n",
      "Outcome = 0: 500\n"
     ]
    }
   ],
   "source": [
    "# ****** your code here ******\n",
    "# Number of rows with outcome 1\n",
    "positive = df[df['Outcome'] == 1].shape[0]\n",
    "print('Outcome = 1: '+ str(positive))\n",
    "\n",
    "# Number of rows with outcome 0\n",
    "negative = df[df['Outcome'] == 0].shape[0]\n",
    "print('Outcome = 0: '+ str(negative))"
   ]
  },
  {
   "cell_type": "markdown",
   "metadata": {},
   "source": [
    "**Your answer**: \n",
    "No, the dataset is not class balanced as there are significantly more negative outcomes than there are positive outcomes."
   ]
  },
  {
   "cell_type": "markdown",
   "metadata": {},
   "source": [
    "(3) For this classification problem, what is the baseline accuracy and how would you interpret it? Round into 3 decimal place."
   ]
  },
  {
   "cell_type": "code",
   "execution_count": 5,
   "metadata": {},
   "outputs": [
    {
     "name": "stdout",
     "output_type": "stream",
     "text": [
      "Baseline Accuracy is: 0.651\n"
     ]
    }
   ],
   "source": [
    "# ****** your code here ******\n",
    "baseline_accuracy = negative / (positive + negative)\n",
    "print(\"Baseline Accuracy is: {:.3f}\".format(baseline_accuracy))"
   ]
  },
  {
   "cell_type": "markdown",
   "metadata": {},
   "source": [
    "I interpret the baseline accuracy of 0.651 as the floor for a successful model to beat. If a model can't outperform this baseline accuracy, then it is doing worse than if it were to not even attempt to fit the data.\n",
    "\n",
    "Additionally, a baseline accuracy significantly above 0.5 indicates that the dataset is not class balanced."
   ]
  },
  {
   "cell_type": "markdown",
   "metadata": {},
   "source": [
    "## Question 1.3 [ _ /3 marks]\n",
    "\n",
    "Use `train_test_split` with `random_state=0` to split the data into training and test sets. Leave `20%` for testing."
   ]
  },
  {
   "cell_type": "code",
   "execution_count": 6,
   "metadata": {},
   "outputs": [],
   "source": [
    "# Store all the features into variable \"X\"\n",
    "# ****** your code here ******\n",
    "X = df.drop('Outcome', axis='columns')\n",
    "\n",
    "# Store the output class values into variable \"y\" \n",
    "# ****** your code here ******\n",
    "y = df.Outcome.values\n",
    "\n",
    "# Split your X and y data using train_test_split \n",
    "# ****** your code here ******\n",
    "Xtrain, Xtest, ytrain, ytest = train_test_split(X, y, test_size=0.2, random_state=0)"
   ]
  },
  {
   "cell_type": "markdown",
   "metadata": {},
   "source": [
    "## Question 2.1 [ _ /3 marks]\n",
    "\n",
    "We will use sklearn's `LogisticRegression` to solve the classification problem. Before we move on, answer the following questions by reading the [documentation](https://scikit-learn.org/stable/modules/generated/sklearn.linear_model.LogisticRegression.html)."
   ]
  },
  {
   "cell_type": "markdown",
   "metadata": {},
   "source": [
    "\n",
    "(1) Does `LogisticRegression` use a penalty by default?  If yes, what penalty?\n",
    "\n",
    "**Your answer**: \n",
    "Yes, by default is uses L2 penalty.\n",
    "\n",
    "    \n",
    "(2) If we apply a penalty during learning, what difference do you expect to see in the resulting coefficients (parameters), relative to not applying a penalty during learning?\n",
    "\n",
    "**Your answer**: \n",
    "The coefficients are expected to be smaller - a penalty works by ensuring there is a smaller range of values in the resulting coefficients. It does this by penalizing extreme values more than less extreme values.\n",
    "\n",
    "    \n",
    "(3) If using the default settings of `LogisticRegression`, do you need to include a column of 1s in your feature/design matrix? Briefly explain why or why not.\n",
    "\n",
    "**Your answer**: \n",
    "You do not. By defualt, it sets the fit_intercept parameter to True. If this parameter were set to False, it would not automatically add a column of 1s and they would need to be added."
   ]
  },
  {
   "cell_type": "markdown",
   "metadata": {},
   "source": [
    "## Question 2.2 [ _ /10 marks]\n",
    "\n",
    "Create a `LogisticRegression` model with `penalty=none`. Let's fisrt train and test this classifier using only \"Insulin\" as the input feature. Make a scatter plot of the points. Plot your prediction on the same graph."
   ]
  },
  {
   "cell_type": "code",
   "execution_count": 57,
   "metadata": {},
   "outputs": [
    {
     "name": "stderr",
     "output_type": "stream",
     "text": [
      "c:\\Users\\Riley\\anaconda3\\Lib\\site-packages\\sklearn\\base.py:464: UserWarning: X does not have valid feature names, but LogisticRegression was fitted with feature names\n",
      "  warnings.warn(\n"
     ]
    },
    {
     "data": {
      "text/plain": [
       "<matplotlib.legend.Legend at 0x20ecf37f990>"
      ]
     },
     "execution_count": 57,
     "metadata": {},
     "output_type": "execute_result"
    },
    {
     "data": {
      "image/png": "[encoded data removed]",
      "text/plain": [
       "<Figure size 640x480 with 1 Axes>"
      ]
     },
     "metadata": {},
     "output_type": "display_data"
    }
   ],
   "source": [
    "# Create a LogisticRegression model without regularization \n",
    "# ****** your code here ******\n",
    "lr = LogisticRegression(penalty=None, random_state=0)\n",
    "\n",
    "# Fit to your training data using Logistic Regression \n",
    "# ****** your code here ******\n",
    "fit = lr.fit(Xtrain[['Insulin']], ytrain)\n",
    "\n",
    "# Create a scatter plot of the test data. \n",
    "# ****** your code here ******\n",
    "plt.scatter(Xtest[['Insulin']], ytest)\n",
    "plt.xlabel('Insulin')\n",
    "plt.ylabel('Outcome')\n",
    "plt.title('Relationship Between Insulin Level and Diabetes Outcome (1 = Positive, 0 = Negative)')\n",
    "\n",
    "# Also plot your prediction using sns.lineplot\n",
    "# lineplot needs 1d vector xplot\n",
    "xplot = np.linspace(0, 850, 100)\n",
    "yplot = lr.predict_proba(xplot.reshape(-1, 1))[:,1]\n",
    "sns.lineplot(x=xplot, y=yplot, color='r')\n",
    "plt.legend(['Test Data', 'Prediction Line'], loc='lower right')"
   ]
  },
  {
   "cell_type": "markdown",
   "metadata": {},
   "source": [
    "## Question 2.3 [ _ /10 marks]\n",
    "Evaluate the classification performance using `Accuracy`, `Recall`, `Precision`, `Sensitivity` and `Specificity`."
   ]
  },
  {
   "cell_type": "code",
   "execution_count": 58,
   "metadata": {},
   "outputs": [
    {
     "name": "stdout",
     "output_type": "stream",
     "text": [
      "tp: 3 tn: 106 fp: 1 fn: 44\n",
      "Accuracy: 0.708 Recall: 0.064 Precision: 0.75 Sensitivity: 0.064 Specificity: 0.991\n"
     ]
    }
   ],
   "source": [
    "# ****** your code here ******\n",
    "# You can either write a function or not\n",
    "\n",
    "# Taken from Lab for Week 4 (because it is convenient)\n",
    "def compute_performance(yhat, y, classes):\n",
    "    # First, get tp, tn, fp, fn\n",
    "    tp = sum(np.logical_and(yhat == classes[1], y == classes[1]))\n",
    "    tn = sum(np.logical_and(yhat == classes[0], y == classes[0]))\n",
    "    fp = sum(np.logical_and(yhat == classes[1], y == classes[0]))\n",
    "    fn = sum(np.logical_and(yhat == classes[0], y == classes[1]))\n",
    "\n",
    "    print(f\"tp: {tp} tn: {tn} fp: {fp} fn: {fn}\")\n",
    "    \n",
    "    # Accuracy\n",
    "    acc = (tp + tn) / (tp + tn + fp + fn)\n",
    "    \n",
    "    # Precision\n",
    "    # \"Of the ones I labeled +, how many are actually +?\"\n",
    "    precision = tp / (tp + fp)\n",
    "    \n",
    "    # Recall\n",
    "    # \"Of all the + in the data, how many do I correctly label?\"\n",
    "    recall = tp / (tp + fn)    \n",
    "    \n",
    "    # Sensitivity\n",
    "    # \"Of all the + in the data, how many do I correctly label?\"\n",
    "    sensitivity = recall\n",
    "    \n",
    "    # Specificity\n",
    "    # \"Of all the - in the data, how many do I correctly label?\"\n",
    "    specificity = tn / (fp + tn)\n",
    "    \n",
    "    # Print results\n",
    "    \n",
    "    print(\"Accuracy:\",round(acc,3),\"Recall:\",round(recall,3),\"Precision:\",round(precision,3),\n",
    "          \"Sensitivity:\",round(sensitivity,3),\"Specificity:\",round(specificity,3))\n",
    "    \n",
    "compute_performance(fit.predict(Xtest[['Insulin']]), ytest, lr.classes_)\n"
   ]
  },
  {
   "cell_type": "markdown",
   "metadata": {},
   "source": [
    "## Question 3.1 [ _ /10 marks]\n",
    "\n",
    "Create another `LogisticRegression` model with `penalty=none`. Train and test this classifier with all features and then evaluate the performance."
   ]
  },
  {
   "cell_type": "code",
   "execution_count": 59,
   "metadata": {},
   "outputs": [
    {
     "name": "stdout",
     "output_type": "stream",
     "text": [
      "tp: 29 tn: 98 fp: 9 fn: 18\n",
      "Accuracy: 0.825 Recall: 0.617 Precision: 0.763 Sensitivity: 0.617 Specificity: 0.916\n"
     ]
    }
   ],
   "source": [
    "# Create a LogisticRegression model without regularization \n",
    "# ****** your code here ******\n",
    "lr = LogisticRegression(penalty=None, max_iter=1000, random_state=0)\n",
    "\n",
    "# Fit to your training data using Logistic Regression \n",
    "# ****** your code here ******\n",
    "fit = lr.fit(Xtrain, ytrain)\n",
    "\n",
    "# Compute your test predictions, given test inputs \n",
    "# ****** your code here ******\n",
    "yhat = fit.predict(Xtest)\n",
    "\n",
    "# Evaluate the performance\n",
    "# ****** your code here ******\n",
    "compute_performance(yhat, ytest, lr.classes_)"
   ]
  },
  {
   "cell_type": "markdown",
   "metadata": {},
   "source": [
    "Does using more features help to improve the classification?\n",
    "\n",
    "**Your answer** : \n",
    "Yes, more features improves the classification. This means that the additional features are beneficial in classifying diabetes with this dataset.\n",
    "\n",
    "Differences in values:\n",
    "- Accuracy: 0.825 compared to 0.708 in insulin-only\n",
    "- Recall: 0.617 compared to 0.064 in insulin-only\n",
    "- Precision: 0.763 compared to 0.75 in insulin-only\n",
    "- Sensitivity: 0.617 compared to 0.064 in insulin-only\n",
    "- Specificity: 0.916 compared to 0.991 in insulin-only"
   ]
  },
  {
   "cell_type": "markdown",
   "metadata": {},
   "source": [
    "## Question 3.2 [ _ /10 marks]\n",
    "Let's adjust the decision threshold from 0.5 (default) to 0.4 and 0.6, and then evlaute the performance."
   ]
  },
  {
   "cell_type": "code",
   "execution_count": 60,
   "metadata": {},
   "outputs": [
    {
     "name": "stdout",
     "output_type": "stream",
     "text": [
      "tp: 34 tn: 88 fp: 19 fn: 13\n",
      "Accuracy: 0.792 Recall: 0.723 Precision: 0.642 Sensitivity: 0.723 Specificity: 0.822\n"
     ]
    }
   ],
   "source": [
    "# Using your classifer from last question, adjust the decision threshold and get the updated predictions \n",
    "# ****** your code here ******\n",
    "threshold = 0.4\n",
    "ytest_prob = fit.predict_proba(Xtest)\n",
    "yhat = fit.classes_[(ytest_prob[:,1] >= threshold).astype(int)]\n",
    "\n",
    "# Evaluate the performance\n",
    "# ****** your code here ******\n",
    "compute_performance(yhat, ytest, lr.classes_)\n"
   ]
  },
  {
   "cell_type": "code",
   "execution_count": 61,
   "metadata": {},
   "outputs": [
    {
     "name": "stdout",
     "output_type": "stream",
     "text": [
      "tp: 26 tn: 100 fp: 7 fn: 21\n",
      "Accuracy: 0.818 Recall: 0.553 Precision: 0.788 Sensitivity: 0.553 Specificity: 0.935\n"
     ]
    }
   ],
   "source": [
    "# Using your classifer from last question, adjust the decision threshold and get the updated predictions \n",
    "# ****** your code here ******\n",
    "threshold = 0.6\n",
    "ytest_prob = fit.predict_proba(Xtest)\n",
    "yhat = fit.classes_[(ytest_prob[:,1] >= threshold).astype(int)]\n",
    "\n",
    "# Evaluate the performance\n",
    "# ****** your code here ******\n",
    "compute_performance(yhat, ytest, lr.classes_)"
   ]
  },
  {
   "cell_type": "markdown",
   "metadata": {},
   "source": [
    "What do you think is a better threshold? \n",
    "\n",
    "**Your answer**: \n",
    "I think that 0.6 is a better threshold. This threshold overall results in less false positives and false negatives cumulatively than 0.4 (28 vs 32).\n",
    "\n",
    "With more data points in our test set we would be able to be even more conclusive about the results (>=500 samples would be ideal)"
   ]
  },
  {
   "cell_type": "markdown",
   "metadata": {},
   "source": [
    "## Question 3.3 [ _ /10 marks]\n",
    "\n",
    "Create a final `LogisticRegression` model with `penalty=l2`, `C=0.01`. Train and test this classifier with all features and then evaluate the performance."
   ]
  },
  {
   "cell_type": "code",
   "execution_count": 62,
   "metadata": {},
   "outputs": [
    {
     "name": "stdout",
     "output_type": "stream",
     "text": [
      "tp: 28 tn: 97 fp: 10 fn: 19\n",
      "Accuracy: 0.812 Recall: 0.596 Precision: 0.737 Sensitivity: 0.596 Specificity: 0.907\n"
     ]
    }
   ],
   "source": [
    "# Create a LogisticRegression model without regularization \n",
    "# ****** your code here ******\n",
    "lr = LogisticRegression(penalty='l2', max_iter=1000, random_state=0, C=0.01)\n",
    "\n",
    "# Fit to your training data using Logistic Regression \n",
    "# ****** your code here ******\n",
    "fit = lr.fit(Xtrain, ytrain)\n",
    "\n",
    "# Compute your test predictions, given test inputs \n",
    "# ****** your code here ******\n",
    "yhat = fit.predict(Xtest)\n",
    "\n",
    "# Evaluate the performance\n",
    "# ****** your code here ******\n",
    "compute_performance(yhat, ytest, lr.classes_)\n"
   ]
  },
  {
   "cell_type": "markdown",
   "metadata": {},
   "source": [
    "Does regularization help to improve the classification?\n",
    "\n",
    "**Your answer** : \n",
    "\n",
    "Without regularization, these are the results:\n",
    "Accuracy: 0.708 Recall: 0.064 Precision: 0.75 Sensitivity: 0.064 Specificity: 0.991\n",
    "\n",
    "Regularization does improve the classification.\n",
    "- Accuracy: 0.81 vs 0.71\n",
    "- Recall: 0.60 vs 0.06\n",
    "- Precision: 0.74 vs 0.75\n",
    "- Sensitivity: 0.60 vs 0.06\n",
    "- Specificity: 0.91 vs 0.99"
   ]
  },
  {
   "cell_type": "markdown",
   "metadata": {},
   "source": [
    "## Question 4 [ _ /15 marks]\n",
    "\n",
    "Plot ROC Curves for the classifiers you used in questions 2.2, 3.1, and 3.3. Use AUC to determine which classifier is the best."
   ]
  },
  {
   "cell_type": "code",
   "execution_count": null,
   "metadata": {},
   "outputs": [],
   "source": [
    "# Use roc_curve to get FPR and TPR for each of the 3 classifiers \n",
    "# ****** your code here ******\n",
    "\n",
    "\n",
    "# Plot all of the ROC curves \n",
    "# ****** your code here ******\n",
    "\n",
    "\n",
    "# Determine AUC for each of the ROC curves \n",
    "# ****** your code here ******\n"
   ]
  },
  {
   "cell_type": "markdown",
   "metadata": {},
   "source": [
    "Which one is the best classifier?\n",
    "\n",
    "**Your answer**: "
   ]
  },
  {
   "cell_type": "markdown",
   "metadata": {},
   "source": [
    "## Question 5 [ _ /10 marks]\n",
    "\n",
    "Multiclass Logistic Regression\n",
    "\n",
    "In the classification lab, we trained a binary LR classifier using the _mnist_ dataset to discriminate entries which were equal to 5 from the rest. Use the same dataset to train a multiclass **Logistic Regression** using the [SGDClassifier](https://scikit-learn.org/stable/modules/generated/sklearn.linear_model.SGDClassifier.html)  with `l2` regularization. So, this time you will have 10 classes, *i.e.*, 0, 1, 2, 3, 4, 5, 6, 7, 8, and 9. For training use `max_iter=2000`, `tol=1e-3`, `random_state=seed`. For some `sklearn` functions you can set argument `n_jobs=N` to run them in parallel and speed up computations. A good value for N can be the number of physical CPU cores that your machine possesses (`N=-1` would use all cores). Check the documentations of the functions to take advantage from this where possible.\n",
    "\n",
    "First load the data and plot a histogram to comment on class distribution qualitatively. For splitting the data into train and test sets, use `test_size=0.5` and `random_state=seed`. What is the balanced accuracy score of your model?"
   ]
  },
  {
   "cell_type": "code",
   "execution_count": null,
   "metadata": {},
   "outputs": [],
   "source": [
    "### your stuff"
   ]
  },
  {
   "cell_type": "markdown",
   "metadata": {},
   "source": [
    "**Your written answer**: "
   ]
  },
  {
   "cell_type": "markdown",
   "metadata": {},
   "source": [
    "## Question 6 [ _ /10 marks]\n",
    "\n",
    "Run the cell below to see how well your model can recognize a digit drawn by the mouse cursor. Set the variable `final_model`, run the cell, draw on the pop-up canvas, and once you close the canvas you will see the model's recognition of your input.\n",
    "\n",
    "Despite the cell using your classifier, which has a high balanced accuracy score, it often makes mistakes and its performance seems questionable. Try to explain in words why is that so?\n",
    "\n",
    "Caveat: The cell below will not run on headless servers, you will need to use a local installation of python. You might have some fun until you can get it to work, but that's ok, because I want you to try your hands on technicalities and not always rely on online services."
   ]
  },
  {
   "cell_type": "code",
   "execution_count": null,
   "metadata": {},
   "outputs": [],
   "source": [
    "final_model=? # use the name of your final model\n",
    "#!pip install tk-tools\n",
    "from tkinter import *\n",
    "import tkinter as tk\n",
    "from PIL import Image\n",
    "import io\n",
    "import matplotlib as mpl\n",
    "\n",
    "temp_file_name=\"TEMP_image_TEMP.jpg\"\n",
    "app = Tk()\n",
    "app.geometry(\"300x300\")\n",
    "canvas = tk.Canvas(app, bg='white')\n",
    "canvas.pack(anchor='nw', fill='both', expand=1)\n",
    "def get_x_and_y(event):\n",
    "    global lasx, lasy\n",
    "    lasx, lasy = event.x, event.y\n",
    "\n",
    "def draw_smth(event):\n",
    "    global lasx, lasy\n",
    "    canvas.create_line((lasx, lasy, event.x, event.y), fill='red', width=4)\n",
    "    lasx, lasy = event.x, event.y\n",
    "    ps = canvas.postscript(colormode = 'color')\n",
    "    img = Image.open(io.BytesIO(ps.encode('utf-8')))\n",
    "    img.save(temp_file_name)\n",
    "\n",
    "canvas.bind(\"<Button-1>\", get_x_and_y)\n",
    "canvas.bind(\"<B1-Motion>\", draw_smth)\n",
    "\n",
    "app.mainloop()\n",
    "img = Image.open(temp_file_name)\n",
    "#resize image to 28x28 pixels\n",
    "img = img.resize((28,28))\n",
    "#convert rgb to grayscale\n",
    "img = img.convert(\"L\")\n",
    "img = np.array(img)\n",
    "img = 255.0 - img\n",
    "plt.imshow(img, cmap = mpl.cm.binary); plt.axis(\"off\")\n",
    "# reshaping to support our model input\n",
    "img = np.reshape(img, 28*28)\n",
    "\n",
    "#predicting the class\n",
    "print('\\nInput recognized as ' + str(final_model.predict([img])[0])+'.')"
   ]
  },
  {
   "cell_type": "markdown",
   "metadata": {},
   "source": [
    "**Your answer**: "
   ]
  }
 ],
 "metadata": {
  "kernelspec": {
   "display_name": "Python 3.8.10 ('my_env')",
   "language": "python",
   "name": "python3"
  },
  "language_info": {
   "codemirror_mode": {
    "name": "ipython",
    "version": 3
   },
   "file_extension": ".py",
   "mimetype": "text/x-python",
   "name": "python",
   "nbconvert_exporter": "python",
   "pygments_lexer": "ipython3",
   "version": "3.11.5"
  },
  "vscode": {
   "interpreter": {
    "hash": "fd9fd915db2e029ec70cf1bf836846dad4f7aef8f0bedb39edb03932a58b544f"
   }
  }
 },
 "nbformat": 4,
 "nbformat_minor": 4
}
